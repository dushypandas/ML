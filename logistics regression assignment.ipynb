{
 "cells": [
  {
   "cell_type": "markdown",
   "id": "f9b3018a",
   "metadata": {},
   "source": [
    "I decided to treat this as a classification problem by creating a new binary variable affair (did the woman have at least one affair?) and trying to predict the classification for each woman.\n",
    "\n",
    "#### Dataset\n",
    "\n",
    "The dataset I chose is the affairs dataset that comes with Statsmodels. It was derived from a survey of women in 1974 by Redbook magazine, in which married women were asked about their participation in extramarital affairs. More information about the study is available in a 1978 paper from the Journal of Political Economy.\n",
    "\n",
    "Description of Variables\n",
    "The dataset contains 6366 observations of 9 variables:\n",
    "\n",
    "rate_marriage: woman's rating of her marriage (1 = very poor, 5 = very good)\n",
    "\n",
    "age: woman's age\n",
    "\n",
    "yrs_married: number of years married\n",
    "\n",
    "children: number of children\n",
    "\n",
    "religious: woman's rating of how religious she is (1 = not religious, 4 = strongly religious)\n",
    "\n",
    "educ: level of education (9 = grade school, 12 = high school, 14 = some college, 16 = college graduate, 17 = some graduate school, 20 = advanced degree)\n",
    "\n",
    "occupation: woman's occupation (1 = student, 2 = farming/semi-skilled/unskilled, 3 = \"white collar\", 4 = teacher/nurse/writer/technician/skilled, 5 = managerial/business, 6 = professional with advanced degree)\n",
    "\n",
    "occupation_husb: husband's occupation (same coding as above)\n",
    "\n",
    "affairs: time spent in extra-marital affairs\n",
    "\n",
    "#### Code to loading data and modules:\n",
    "\n",
    "import numpy as np\n",
    "\n",
    "import pandas as pd\n",
    "\n",
    "import statsmodels.api as sm\n",
    "\n",
    "import matplotlib.pyplot as plt\n",
    "\n",
    "from patsy import dmatrices\n",
    "\n",
    "from sklearn.linear_model import LogisticRegression\n",
    "\n",
    "from sklearn.cross_validation\n",
    "\n",
    "import train_test_split\n",
    "\n",
    "from sklearn import metrics\n",
    "\n",
    "from sklearn.cross_validation import cross_val_score \n",
    "\n",
    "dta = sm.datasets.fair.load_pandas().data\n",
    "\n",
    "#add \"affair\" column: 1 represents having affairs, 0 represents not\n",
    "\n",
    "dta['affair'] = (dta.affairs > 0).astype(int)\n",
    "\n",
    "y, X = dmatrices('affair ~ rate_marriage + age + yrs_married + children + \\ religious + educ + C(occupation) + C(occupation_husb)', dta, return_type=\"dataframe\")\n",
    "\n",
    "X = X.rename(columns = {'C(occupation)[T.2.0]':'occ_2',\n",
    "'C(occupation)[T.3.0]':'occ_3',\n",
    "'C(occupation)[T.4.0]':'occ_4',\n",
    "'C(occupation)[T.5.0]':'occ_5',\n",
    "'C(occupation)[T.6.0]':'occ_6',\n",
    "'C(occupation_husb)[T.2.0]':'occ_husb_2',\n",
    "'C(occupation_husb)[T.3.0]':'occ_husb_3',\n",
    "'C(occupation_husb)[T.4.0]':'occ_husb_4',\n",
    "'C(occupation_husb)[T.5.0]':'occ_husb_5',\n",
    "'C(occupation_husb)[T.6.0]':'occ_husb_6'})\n",
    "\n",
    "y = np.ravel(y)"
   ]
  },
  {
   "cell_type": "markdown",
   "id": "71222adb",
   "metadata": {},
   "source": [
    "## Importing all the essential libraries and acquiring data set"
   ]
  },
  {
   "cell_type": "code",
   "execution_count": 1,
   "id": "5f1b37fd",
   "metadata": {
    "scrolled": false
   },
   "outputs": [
    {
     "data": {
      "text/html": [
       "<div>\n",
       "<style scoped>\n",
       "    .dataframe tbody tr th:only-of-type {\n",
       "        vertical-align: middle;\n",
       "    }\n",
       "\n",
       "    .dataframe tbody tr th {\n",
       "        vertical-align: top;\n",
       "    }\n",
       "\n",
       "    .dataframe thead th {\n",
       "        text-align: right;\n",
       "    }\n",
       "</style>\n",
       "<table border=\"1\" class=\"dataframe\">\n",
       "  <thead>\n",
       "    <tr style=\"text-align: right;\">\n",
       "      <th></th>\n",
       "      <th>rate_marriage</th>\n",
       "      <th>age</th>\n",
       "      <th>yrs_married</th>\n",
       "      <th>children</th>\n",
       "      <th>religious</th>\n",
       "      <th>educ</th>\n",
       "      <th>occupation</th>\n",
       "      <th>occupation_husb</th>\n",
       "      <th>affairs</th>\n",
       "      <th>affair</th>\n",
       "    </tr>\n",
       "  </thead>\n",
       "  <tbody>\n",
       "    <tr>\n",
       "      <th>0</th>\n",
       "      <td>3.0</td>\n",
       "      <td>32.0</td>\n",
       "      <td>9.0</td>\n",
       "      <td>3.0</td>\n",
       "      <td>3.0</td>\n",
       "      <td>17.0</td>\n",
       "      <td>2.0</td>\n",
       "      <td>5.0</td>\n",
       "      <td>0.111111</td>\n",
       "      <td>1</td>\n",
       "    </tr>\n",
       "    <tr>\n",
       "      <th>1</th>\n",
       "      <td>3.0</td>\n",
       "      <td>27.0</td>\n",
       "      <td>13.0</td>\n",
       "      <td>3.0</td>\n",
       "      <td>1.0</td>\n",
       "      <td>14.0</td>\n",
       "      <td>3.0</td>\n",
       "      <td>4.0</td>\n",
       "      <td>3.230769</td>\n",
       "      <td>1</td>\n",
       "    </tr>\n",
       "    <tr>\n",
       "      <th>2</th>\n",
       "      <td>4.0</td>\n",
       "      <td>22.0</td>\n",
       "      <td>2.5</td>\n",
       "      <td>0.0</td>\n",
       "      <td>1.0</td>\n",
       "      <td>16.0</td>\n",
       "      <td>3.0</td>\n",
       "      <td>5.0</td>\n",
       "      <td>1.400000</td>\n",
       "      <td>1</td>\n",
       "    </tr>\n",
       "    <tr>\n",
       "      <th>3</th>\n",
       "      <td>4.0</td>\n",
       "      <td>37.0</td>\n",
       "      <td>16.5</td>\n",
       "      <td>4.0</td>\n",
       "      <td>3.0</td>\n",
       "      <td>16.0</td>\n",
       "      <td>5.0</td>\n",
       "      <td>5.0</td>\n",
       "      <td>0.727273</td>\n",
       "      <td>1</td>\n",
       "    </tr>\n",
       "    <tr>\n",
       "      <th>4</th>\n",
       "      <td>5.0</td>\n",
       "      <td>27.0</td>\n",
       "      <td>9.0</td>\n",
       "      <td>1.0</td>\n",
       "      <td>1.0</td>\n",
       "      <td>14.0</td>\n",
       "      <td>3.0</td>\n",
       "      <td>4.0</td>\n",
       "      <td>4.666666</td>\n",
       "      <td>1</td>\n",
       "    </tr>\n",
       "    <tr>\n",
       "      <th>...</th>\n",
       "      <td>...</td>\n",
       "      <td>...</td>\n",
       "      <td>...</td>\n",
       "      <td>...</td>\n",
       "      <td>...</td>\n",
       "      <td>...</td>\n",
       "      <td>...</td>\n",
       "      <td>...</td>\n",
       "      <td>...</td>\n",
       "      <td>...</td>\n",
       "    </tr>\n",
       "    <tr>\n",
       "      <th>6361</th>\n",
       "      <td>5.0</td>\n",
       "      <td>32.0</td>\n",
       "      <td>13.0</td>\n",
       "      <td>2.0</td>\n",
       "      <td>3.0</td>\n",
       "      <td>17.0</td>\n",
       "      <td>4.0</td>\n",
       "      <td>3.0</td>\n",
       "      <td>0.000000</td>\n",
       "      <td>0</td>\n",
       "    </tr>\n",
       "    <tr>\n",
       "      <th>6362</th>\n",
       "      <td>4.0</td>\n",
       "      <td>32.0</td>\n",
       "      <td>13.0</td>\n",
       "      <td>1.0</td>\n",
       "      <td>1.0</td>\n",
       "      <td>16.0</td>\n",
       "      <td>5.0</td>\n",
       "      <td>5.0</td>\n",
       "      <td>0.000000</td>\n",
       "      <td>0</td>\n",
       "    </tr>\n",
       "    <tr>\n",
       "      <th>6363</th>\n",
       "      <td>5.0</td>\n",
       "      <td>22.0</td>\n",
       "      <td>2.5</td>\n",
       "      <td>0.0</td>\n",
       "      <td>2.0</td>\n",
       "      <td>14.0</td>\n",
       "      <td>3.0</td>\n",
       "      <td>1.0</td>\n",
       "      <td>0.000000</td>\n",
       "      <td>0</td>\n",
       "    </tr>\n",
       "    <tr>\n",
       "      <th>6364</th>\n",
       "      <td>5.0</td>\n",
       "      <td>32.0</td>\n",
       "      <td>6.0</td>\n",
       "      <td>1.0</td>\n",
       "      <td>3.0</td>\n",
       "      <td>14.0</td>\n",
       "      <td>3.0</td>\n",
       "      <td>4.0</td>\n",
       "      <td>0.000000</td>\n",
       "      <td>0</td>\n",
       "    </tr>\n",
       "    <tr>\n",
       "      <th>6365</th>\n",
       "      <td>4.0</td>\n",
       "      <td>22.0</td>\n",
       "      <td>2.5</td>\n",
       "      <td>0.0</td>\n",
       "      <td>2.0</td>\n",
       "      <td>16.0</td>\n",
       "      <td>2.0</td>\n",
       "      <td>4.0</td>\n",
       "      <td>0.000000</td>\n",
       "      <td>0</td>\n",
       "    </tr>\n",
       "  </tbody>\n",
       "</table>\n",
       "<p>6366 rows × 10 columns</p>\n",
       "</div>"
      ],
      "text/plain": [
       "      rate_marriage   age  yrs_married  children  religious  educ  occupation  \\\n",
       "0               3.0  32.0          9.0       3.0        3.0  17.0         2.0   \n",
       "1               3.0  27.0         13.0       3.0        1.0  14.0         3.0   \n",
       "2               4.0  22.0          2.5       0.0        1.0  16.0         3.0   \n",
       "3               4.0  37.0         16.5       4.0        3.0  16.0         5.0   \n",
       "4               5.0  27.0          9.0       1.0        1.0  14.0         3.0   \n",
       "...             ...   ...          ...       ...        ...   ...         ...   \n",
       "6361            5.0  32.0         13.0       2.0        3.0  17.0         4.0   \n",
       "6362            4.0  32.0         13.0       1.0        1.0  16.0         5.0   \n",
       "6363            5.0  22.0          2.5       0.0        2.0  14.0         3.0   \n",
       "6364            5.0  32.0          6.0       1.0        3.0  14.0         3.0   \n",
       "6365            4.0  22.0          2.5       0.0        2.0  16.0         2.0   \n",
       "\n",
       "      occupation_husb   affairs  affair  \n",
       "0                 5.0  0.111111       1  \n",
       "1                 4.0  3.230769       1  \n",
       "2                 5.0  1.400000       1  \n",
       "3                 5.0  0.727273       1  \n",
       "4                 4.0  4.666666       1  \n",
       "...               ...       ...     ...  \n",
       "6361              3.0  0.000000       0  \n",
       "6362              5.0  0.000000       0  \n",
       "6363              1.0  0.000000       0  \n",
       "6364              4.0  0.000000       0  \n",
       "6365              4.0  0.000000       0  \n",
       "\n",
       "[6366 rows x 10 columns]"
      ]
     },
     "execution_count": 1,
     "metadata": {},
     "output_type": "execute_result"
    }
   ],
   "source": [
    "# Code to loading data and modules:\n",
    "import numpy as np\n",
    "import pandas as pd\n",
    "import statsmodels.api as sm\n",
    "import matplotlib.pyplot as plt\n",
    "%matplotlib inline\n",
    "import seaborn as sns\n",
    "from patsy import dmatrices\n",
    "from sklearn.linear_model import LogisticRegression\n",
    "from sklearn.model_selection import train_test_split, cross_val_score\n",
    "from sklearn import metrics\n",
    "\n",
    "dta = sm.datasets.fair.load_pandas().data\n",
    "\n",
    "#add \"affair\" column: 1 represents having affairs, 0 represents not\n",
    "dta['affair'] = (dta.affairs > 0).astype(int)\n",
    "dta"
   ]
  },
  {
   "cell_type": "code",
   "execution_count": 2,
   "id": "956a4587",
   "metadata": {},
   "outputs": [
    {
     "name": "stdout",
     "output_type": "stream",
     "text": [
      "<class 'pandas.core.frame.DataFrame'>\n",
      "RangeIndex: 6366 entries, 0 to 6365\n",
      "Data columns (total 10 columns):\n",
      " #   Column           Non-Null Count  Dtype  \n",
      "---  ------           --------------  -----  \n",
      " 0   rate_marriage    6366 non-null   float64\n",
      " 1   age              6366 non-null   float64\n",
      " 2   yrs_married      6366 non-null   float64\n",
      " 3   children         6366 non-null   float64\n",
      " 4   religious        6366 non-null   float64\n",
      " 5   educ             6366 non-null   float64\n",
      " 6   occupation       6366 non-null   float64\n",
      " 7   occupation_husb  6366 non-null   float64\n",
      " 8   affairs          6366 non-null   float64\n",
      " 9   affair           6366 non-null   int32  \n",
      "dtypes: float64(9), int32(1)\n",
      "memory usage: 472.6 KB\n"
     ]
    }
   ],
   "source": [
    "dta.info()"
   ]
  },
  {
   "cell_type": "markdown",
   "id": "177a014b",
   "metadata": {},
   "source": [
    "## Data Preprocessing"
   ]
  },
  {
   "cell_type": "code",
   "execution_count": 3,
   "id": "fd082905",
   "metadata": {
    "scrolled": true
   },
   "outputs": [
    {
     "data": {
      "text/html": [
       "<div>\n",
       "<style scoped>\n",
       "    .dataframe tbody tr th:only-of-type {\n",
       "        vertical-align: middle;\n",
       "    }\n",
       "\n",
       "    .dataframe tbody tr th {\n",
       "        vertical-align: top;\n",
       "    }\n",
       "\n",
       "    .dataframe thead th {\n",
       "        text-align: right;\n",
       "    }\n",
       "</style>\n",
       "<table border=\"1\" class=\"dataframe\">\n",
       "  <thead>\n",
       "    <tr style=\"text-align: right;\">\n",
       "      <th></th>\n",
       "      <th>Intercept</th>\n",
       "      <th>occ_2</th>\n",
       "      <th>occ_3</th>\n",
       "      <th>occ_4</th>\n",
       "      <th>occ_5</th>\n",
       "      <th>occ_6</th>\n",
       "      <th>occ_husb_2</th>\n",
       "      <th>occ_husb_3</th>\n",
       "      <th>occ_husb_4</th>\n",
       "      <th>occ_husb_5</th>\n",
       "      <th>occ_husb_6</th>\n",
       "      <th>rate_marriage</th>\n",
       "      <th>age</th>\n",
       "      <th>yrs_married</th>\n",
       "      <th>children</th>\n",
       "      <th>religious</th>\n",
       "      <th>educ</th>\n",
       "      <th>affair</th>\n",
       "    </tr>\n",
       "  </thead>\n",
       "  <tbody>\n",
       "    <tr>\n",
       "      <th>0</th>\n",
       "      <td>1.0</td>\n",
       "      <td>1.0</td>\n",
       "      <td>0.0</td>\n",
       "      <td>0.0</td>\n",
       "      <td>0.0</td>\n",
       "      <td>0.0</td>\n",
       "      <td>0.0</td>\n",
       "      <td>0.0</td>\n",
       "      <td>0.0</td>\n",
       "      <td>1.0</td>\n",
       "      <td>0.0</td>\n",
       "      <td>3.0</td>\n",
       "      <td>32.0</td>\n",
       "      <td>9.0</td>\n",
       "      <td>3.0</td>\n",
       "      <td>3.0</td>\n",
       "      <td>17.0</td>\n",
       "      <td>1.0</td>\n",
       "    </tr>\n",
       "    <tr>\n",
       "      <th>1</th>\n",
       "      <td>1.0</td>\n",
       "      <td>0.0</td>\n",
       "      <td>1.0</td>\n",
       "      <td>0.0</td>\n",
       "      <td>0.0</td>\n",
       "      <td>0.0</td>\n",
       "      <td>0.0</td>\n",
       "      <td>0.0</td>\n",
       "      <td>1.0</td>\n",
       "      <td>0.0</td>\n",
       "      <td>0.0</td>\n",
       "      <td>3.0</td>\n",
       "      <td>27.0</td>\n",
       "      <td>13.0</td>\n",
       "      <td>3.0</td>\n",
       "      <td>1.0</td>\n",
       "      <td>14.0</td>\n",
       "      <td>1.0</td>\n",
       "    </tr>\n",
       "    <tr>\n",
       "      <th>2</th>\n",
       "      <td>1.0</td>\n",
       "      <td>0.0</td>\n",
       "      <td>1.0</td>\n",
       "      <td>0.0</td>\n",
       "      <td>0.0</td>\n",
       "      <td>0.0</td>\n",
       "      <td>0.0</td>\n",
       "      <td>0.0</td>\n",
       "      <td>0.0</td>\n",
       "      <td>1.0</td>\n",
       "      <td>0.0</td>\n",
       "      <td>4.0</td>\n",
       "      <td>22.0</td>\n",
       "      <td>2.5</td>\n",
       "      <td>0.0</td>\n",
       "      <td>1.0</td>\n",
       "      <td>16.0</td>\n",
       "      <td>1.0</td>\n",
       "    </tr>\n",
       "    <tr>\n",
       "      <th>3</th>\n",
       "      <td>1.0</td>\n",
       "      <td>0.0</td>\n",
       "      <td>0.0</td>\n",
       "      <td>0.0</td>\n",
       "      <td>1.0</td>\n",
       "      <td>0.0</td>\n",
       "      <td>0.0</td>\n",
       "      <td>0.0</td>\n",
       "      <td>0.0</td>\n",
       "      <td>1.0</td>\n",
       "      <td>0.0</td>\n",
       "      <td>4.0</td>\n",
       "      <td>37.0</td>\n",
       "      <td>16.5</td>\n",
       "      <td>4.0</td>\n",
       "      <td>3.0</td>\n",
       "      <td>16.0</td>\n",
       "      <td>1.0</td>\n",
       "    </tr>\n",
       "    <tr>\n",
       "      <th>4</th>\n",
       "      <td>1.0</td>\n",
       "      <td>0.0</td>\n",
       "      <td>1.0</td>\n",
       "      <td>0.0</td>\n",
       "      <td>0.0</td>\n",
       "      <td>0.0</td>\n",
       "      <td>0.0</td>\n",
       "      <td>0.0</td>\n",
       "      <td>1.0</td>\n",
       "      <td>0.0</td>\n",
       "      <td>0.0</td>\n",
       "      <td>5.0</td>\n",
       "      <td>27.0</td>\n",
       "      <td>9.0</td>\n",
       "      <td>1.0</td>\n",
       "      <td>1.0</td>\n",
       "      <td>14.0</td>\n",
       "      <td>1.0</td>\n",
       "    </tr>\n",
       "  </tbody>\n",
       "</table>\n",
       "</div>"
      ],
      "text/plain": [
       "   Intercept  occ_2  occ_3  occ_4  occ_5  occ_6  occ_husb_2  occ_husb_3  \\\n",
       "0        1.0    1.0    0.0    0.0    0.0    0.0         0.0         0.0   \n",
       "1        1.0    0.0    1.0    0.0    0.0    0.0         0.0         0.0   \n",
       "2        1.0    0.0    1.0    0.0    0.0    0.0         0.0         0.0   \n",
       "3        1.0    0.0    0.0    0.0    1.0    0.0         0.0         0.0   \n",
       "4        1.0    0.0    1.0    0.0    0.0    0.0         0.0         0.0   \n",
       "\n",
       "   occ_husb_4  occ_husb_5  occ_husb_6  rate_marriage   age  yrs_married  \\\n",
       "0         0.0         1.0         0.0            3.0  32.0          9.0   \n",
       "1         1.0         0.0         0.0            3.0  27.0         13.0   \n",
       "2         0.0         1.0         0.0            4.0  22.0          2.5   \n",
       "3         0.0         1.0         0.0            4.0  37.0         16.5   \n",
       "4         1.0         0.0         0.0            5.0  27.0          9.0   \n",
       "\n",
       "   children  religious  educ  affair  \n",
       "0       3.0        3.0  17.0     1.0  \n",
       "1       3.0        1.0  14.0     1.0  \n",
       "2       0.0        1.0  16.0     1.0  \n",
       "3       4.0        3.0  16.0     1.0  \n",
       "4       1.0        1.0  14.0     1.0  "
      ]
     },
     "execution_count": 3,
     "metadata": {},
     "output_type": "execute_result"
    }
   ],
   "source": [
    "y, X = dmatrices('affair ~ rate_marriage + age + yrs_married + children + religious + educ + C(occupation) + C(occupation_husb)',\n",
    "dta, return_type=\"dataframe\")\n",
    "X = X.rename(columns = {'C(occupation)[T.2.0]':'occ_2',\n",
    "                        'C(occupation)[T.3.0]':'occ_3',\n",
    "                        'C(occupation)[T.4.0]':'occ_4',\n",
    "                        'C(occupation)[T.5.0]':'occ_5',\n",
    "                        'C(occupation)[T.6.0]':'occ_6',\n",
    "                        'C(occupation_husb)[T.2.0]':'occ_husb_2',\n",
    "                        'C(occupation_husb)[T.3.0]':'occ_husb_3',\n",
    "                        'C(occupation_husb)[T.4.0]':'occ_husb_4',\n",
    "                        'C(occupation_husb)[T.5.0]':'occ_husb_5',\n",
    "                        'C(occupation_husb)[T.6.0]':'occ_husb_6'})\n",
    "\n",
    "df = pd.concat([X, y], axis=1)\n",
    "df.head()"
   ]
  },
  {
   "cell_type": "markdown",
   "id": "25426d71",
   "metadata": {},
   "source": [
    "## Data Visualization\n",
    "### How various factors affect the husband-wife relationship ?"
   ]
  },
  {
   "cell_type": "code",
   "execution_count": 4,
   "id": "c98c8de0",
   "metadata": {},
   "outputs": [
    {
     "data": {
      "text/html": [
       "<div>\n",
       "<style scoped>\n",
       "    .dataframe tbody tr th:only-of-type {\n",
       "        vertical-align: middle;\n",
       "    }\n",
       "\n",
       "    .dataframe tbody tr th {\n",
       "        vertical-align: top;\n",
       "    }\n",
       "\n",
       "    .dataframe thead th {\n",
       "        text-align: right;\n",
       "    }\n",
       "</style>\n",
       "<table border=\"1\" class=\"dataframe\">\n",
       "  <thead>\n",
       "    <tr style=\"text-align: right;\">\n",
       "      <th></th>\n",
       "      <th>rate_marriage</th>\n",
       "      <th>age</th>\n",
       "      <th>yrs_married</th>\n",
       "      <th>children</th>\n",
       "      <th>religious</th>\n",
       "      <th>educ</th>\n",
       "      <th>occupation</th>\n",
       "      <th>occupation_husb</th>\n",
       "      <th>affairs</th>\n",
       "    </tr>\n",
       "    <tr>\n",
       "      <th>affair</th>\n",
       "      <th></th>\n",
       "      <th></th>\n",
       "      <th></th>\n",
       "      <th></th>\n",
       "      <th></th>\n",
       "      <th></th>\n",
       "      <th></th>\n",
       "      <th></th>\n",
       "      <th></th>\n",
       "    </tr>\n",
       "  </thead>\n",
       "  <tbody>\n",
       "    <tr>\n",
       "      <th>0</th>\n",
       "      <td>4.329701</td>\n",
       "      <td>28.390679</td>\n",
       "      <td>7.989335</td>\n",
       "      <td>1.238813</td>\n",
       "      <td>2.504521</td>\n",
       "      <td>14.322977</td>\n",
       "      <td>3.405286</td>\n",
       "      <td>3.833758</td>\n",
       "      <td>0.000000</td>\n",
       "    </tr>\n",
       "    <tr>\n",
       "      <th>1</th>\n",
       "      <td>3.647345</td>\n",
       "      <td>30.537019</td>\n",
       "      <td>11.152460</td>\n",
       "      <td>1.728933</td>\n",
       "      <td>2.261568</td>\n",
       "      <td>13.972236</td>\n",
       "      <td>3.463712</td>\n",
       "      <td>3.884559</td>\n",
       "      <td>2.187243</td>\n",
       "    </tr>\n",
       "  </tbody>\n",
       "</table>\n",
       "</div>"
      ],
      "text/plain": [
       "        rate_marriage        age  yrs_married  children  religious       educ  \\\n",
       "affair                                                                          \n",
       "0            4.329701  28.390679     7.989335  1.238813   2.504521  14.322977   \n",
       "1            3.647345  30.537019    11.152460  1.728933   2.261568  13.972236   \n",
       "\n",
       "        occupation  occupation_husb   affairs  \n",
       "affair                                         \n",
       "0         3.405286         3.833758  0.000000  \n",
       "1         3.463712         3.884559  2.187243  "
      ]
     },
     "execution_count": 4,
     "metadata": {},
     "output_type": "execute_result"
    }
   ],
   "source": [
    "dta.groupby('affair').mean()"
   ]
  },
  {
   "cell_type": "markdown",
   "id": "933fc45f",
   "metadata": {},
   "source": [
    "#### As expected, women who have affairs rate their marriages lower, on an average."
   ]
  },
  {
   "cell_type": "code",
   "execution_count": 5,
   "id": "299ee37a",
   "metadata": {},
   "outputs": [
    {
     "data": {
      "text/html": [
       "<div>\n",
       "<style scoped>\n",
       "    .dataframe tbody tr th:only-of-type {\n",
       "        vertical-align: middle;\n",
       "    }\n",
       "\n",
       "    .dataframe tbody tr th {\n",
       "        vertical-align: top;\n",
       "    }\n",
       "\n",
       "    .dataframe thead th {\n",
       "        text-align: right;\n",
       "    }\n",
       "</style>\n",
       "<table border=\"1\" class=\"dataframe\">\n",
       "  <thead>\n",
       "    <tr style=\"text-align: right;\">\n",
       "      <th></th>\n",
       "      <th>age</th>\n",
       "      <th>yrs_married</th>\n",
       "      <th>children</th>\n",
       "      <th>religious</th>\n",
       "      <th>educ</th>\n",
       "      <th>occupation</th>\n",
       "      <th>occupation_husb</th>\n",
       "      <th>affairs</th>\n",
       "      <th>affair</th>\n",
       "    </tr>\n",
       "    <tr>\n",
       "      <th>rate_marriage</th>\n",
       "      <th></th>\n",
       "      <th></th>\n",
       "      <th></th>\n",
       "      <th></th>\n",
       "      <th></th>\n",
       "      <th></th>\n",
       "      <th></th>\n",
       "      <th></th>\n",
       "      <th></th>\n",
       "    </tr>\n",
       "  </thead>\n",
       "  <tbody>\n",
       "    <tr>\n",
       "      <th>1.0</th>\n",
       "      <td>33.823232</td>\n",
       "      <td>13.914141</td>\n",
       "      <td>2.308081</td>\n",
       "      <td>2.343434</td>\n",
       "      <td>13.848485</td>\n",
       "      <td>3.232323</td>\n",
       "      <td>3.838384</td>\n",
       "      <td>1.201671</td>\n",
       "      <td>0.747475</td>\n",
       "    </tr>\n",
       "    <tr>\n",
       "      <th>2.0</th>\n",
       "      <td>30.471264</td>\n",
       "      <td>10.727011</td>\n",
       "      <td>1.735632</td>\n",
       "      <td>2.330460</td>\n",
       "      <td>13.864943</td>\n",
       "      <td>3.327586</td>\n",
       "      <td>3.764368</td>\n",
       "      <td>1.615745</td>\n",
       "      <td>0.635057</td>\n",
       "    </tr>\n",
       "    <tr>\n",
       "      <th>3.0</th>\n",
       "      <td>30.008056</td>\n",
       "      <td>10.239174</td>\n",
       "      <td>1.638469</td>\n",
       "      <td>2.308157</td>\n",
       "      <td>14.001007</td>\n",
       "      <td>3.402820</td>\n",
       "      <td>3.798590</td>\n",
       "      <td>1.371281</td>\n",
       "      <td>0.550856</td>\n",
       "    </tr>\n",
       "    <tr>\n",
       "      <th>4.0</th>\n",
       "      <td>28.856601</td>\n",
       "      <td>8.816905</td>\n",
       "      <td>1.369536</td>\n",
       "      <td>2.400981</td>\n",
       "      <td>14.144514</td>\n",
       "      <td>3.420161</td>\n",
       "      <td>3.835861</td>\n",
       "      <td>0.674837</td>\n",
       "      <td>0.322926</td>\n",
       "    </tr>\n",
       "    <tr>\n",
       "      <th>5.0</th>\n",
       "      <td>28.574702</td>\n",
       "      <td>8.311662</td>\n",
       "      <td>1.252794</td>\n",
       "      <td>2.506334</td>\n",
       "      <td>14.399776</td>\n",
       "      <td>3.454918</td>\n",
       "      <td>3.892697</td>\n",
       "      <td>0.348174</td>\n",
       "      <td>0.181446</td>\n",
       "    </tr>\n",
       "  </tbody>\n",
       "</table>\n",
       "</div>"
      ],
      "text/plain": [
       "                     age  yrs_married  children  religious       educ  \\\n",
       "rate_marriage                                                           \n",
       "1.0            33.823232    13.914141  2.308081   2.343434  13.848485   \n",
       "2.0            30.471264    10.727011  1.735632   2.330460  13.864943   \n",
       "3.0            30.008056    10.239174  1.638469   2.308157  14.001007   \n",
       "4.0            28.856601     8.816905  1.369536   2.400981  14.144514   \n",
       "5.0            28.574702     8.311662  1.252794   2.506334  14.399776   \n",
       "\n",
       "               occupation  occupation_husb   affairs    affair  \n",
       "rate_marriage                                                   \n",
       "1.0              3.232323         3.838384  1.201671  0.747475  \n",
       "2.0              3.327586         3.764368  1.615745  0.635057  \n",
       "3.0              3.402820         3.798590  1.371281  0.550856  \n",
       "4.0              3.420161         3.835861  0.674837  0.322926  \n",
       "5.0              3.454918         3.892697  0.348174  0.181446  "
      ]
     },
     "execution_count": 5,
     "metadata": {},
     "output_type": "execute_result"
    }
   ],
   "source": [
    "dta.groupby('rate_marriage').mean()"
   ]
  },
  {
   "cell_type": "markdown",
   "id": "b4ff9e5e",
   "metadata": {},
   "source": [
    "#### With an increase in women's age, years of marriage, and children there is a decline in marriage rating."
   ]
  },
  {
   "cell_type": "code",
   "execution_count": 6,
   "id": "79c29b98",
   "metadata": {},
   "outputs": [
    {
     "data": {
      "text/plain": [
       "Text(0.5, 0, 'rate_marriage')"
      ]
     },
     "execution_count": 6,
     "metadata": {},
     "output_type": "execute_result"
    },
    {
     "data": {
      "image/png": "[encoded data removed]",
      "text/plain": [
       "<Figure size 576x432 with 1 Axes>"
      ]
     },
     "metadata": {
      "needs_background": "light"
     },
     "output_type": "display_data"
    }
   ],
   "source": [
    "plt.figure(figsize=(8,6))\n",
    "sns.countplot(x='rate_marriage', data=df, hue='affair')\n",
    "plt.title(\"How woman's rating of her marriage affects married life\", fontsize=17)\n",
    "plt.xlabel('rate_marriage', fontsize=15)"
   ]
  },
  {
   "cell_type": "code",
   "execution_count": 7,
   "id": "2d6dc4fd",
   "metadata": {
    "scrolled": false
   },
   "outputs": [
    {
     "data": {
      "image/png": "[encoded data removed]",
      "text/plain": [
       "<Figure size 1440x1800 with 6 Axes>"
      ]
     },
     "metadata": {},
     "output_type": "display_data"
    }
   ],
   "source": [
    "features = {'rate_marriage':\"woman's Rating of her marriage\", 'age':\"woman's Age\", 'yrs_married':'Years Married',\n",
    "            'children':'Children', 'religious':\"woman's Religious Rating\", 'educ':\"woman's Education level\"}\n",
    "plt.figure(figsize=(20,25), facecolor='white')\n",
    "plotnumber = 1\n",
    "for column, value in features.items():\n",
    "    plt.subplot(3,2,plotnumber)\n",
    "    affair_column = pd.crosstab(df[column], df['affair'])\n",
    "    affair_column = affair_column.div(affair_column.sum(1), axis=0)\n",
    "    plt.bar(affair_column.index, affair_column[0.0])\n",
    "    plt.bar(affair_column.index, affair_column[1.0], bottom=affair_column[0.0])\n",
    "    plt.title('Affair Percentage by '+value, fontsize=17)\n",
    "    plt.xlabel(column, fontsize=15)\n",
    "    plt.ylabel('Percentage', fontsize=15)\n",
    "    plotnumber+=1\n",
    "plt.show()"
   ]
  },
  {
   "cell_type": "markdown",
   "id": "8138af83",
   "metadata": {},
   "source": [
    "### How woman's rating of her marriage affects married life ?\n",
    "#### From above figures we can say large bunch of women are satisfied with their married life, irrespective of their affairs. Also higher the woman's rating of her marriage, lesser the chance of extra marital affairs."
   ]
  },
  {
   "cell_type": "markdown",
   "id": "60f13a41",
   "metadata": {},
   "source": [
    "### How woman's age affects married life ?\n",
    "#### Older women have greater chances of extra marital affairs."
   ]
  },
  {
   "cell_type": "markdown",
   "id": "13dfbd5b",
   "metadata": {},
   "source": [
    "### How years of marriage affects married life ?\n",
    "#### As the married couples spend more and more years together there would be greater chance that the wife would be in extra marital relations. Less extra marital affairs seen in newly married couples."
   ]
  },
  {
   "cell_type": "markdown",
   "id": "14dec253",
   "metadata": {},
   "source": [
    "### How number of children affects the husband-wife relationship ?\n",
    "#### From these visuals we see that more number of children lead to more chances of extra marital affairs."
   ]
  },
  {
   "cell_type": "markdown",
   "id": "806b1b3d",
   "metadata": {},
   "source": [
    "### How religiousness affects married life ?\n",
    "#### More the woman will be religious, lesser will be the chance that woman will have extra marital affairs."
   ]
  },
  {
   "cell_type": "markdown",
   "id": "656a12c9",
   "metadata": {},
   "source": [
    "### How woman's education affects married life ?\n",
    "#### Higher the woman's education, lesser the chance of extra marital affairs. Those women who are in college or have lower education level have shown more interest in extra marital affairs."
   ]
  },
  {
   "cell_type": "markdown",
   "id": "964a328d",
   "metadata": {},
   "source": [
    "## Modeling"
   ]
  },
  {
   "cell_type": "markdown",
   "id": "59d629c0",
   "metadata": {},
   "source": [
    "### Multicollinearity"
   ]
  },
  {
   "cell_type": "code",
   "execution_count": 8,
   "id": "738738d6",
   "metadata": {},
   "outputs": [
    {
     "data": {
      "text/html": [
       "<div>\n",
       "<style scoped>\n",
       "    .dataframe tbody tr th:only-of-type {\n",
       "        vertical-align: middle;\n",
       "    }\n",
       "\n",
       "    .dataframe tbody tr th {\n",
       "        vertical-align: top;\n",
       "    }\n",
       "\n",
       "    .dataframe thead th {\n",
       "        text-align: right;\n",
       "    }\n",
       "</style>\n",
       "<table border=\"1\" class=\"dataframe\">\n",
       "  <thead>\n",
       "    <tr style=\"text-align: right;\">\n",
       "      <th></th>\n",
       "      <th>Features</th>\n",
       "      <th>VIF</th>\n",
       "    </tr>\n",
       "  </thead>\n",
       "  <tbody>\n",
       "    <tr>\n",
       "      <th>0</th>\n",
       "      <td>occ_2</td>\n",
       "      <td>19.340780</td>\n",
       "    </tr>\n",
       "    <tr>\n",
       "      <th>1</th>\n",
       "      <td>occ_3</td>\n",
       "      <td>39.335618</td>\n",
       "    </tr>\n",
       "    <tr>\n",
       "      <th>2</th>\n",
       "      <td>occ_4</td>\n",
       "      <td>32.931910</td>\n",
       "    </tr>\n",
       "    <tr>\n",
       "      <th>3</th>\n",
       "      <td>occ_5</td>\n",
       "      <td>17.057165</td>\n",
       "    </tr>\n",
       "    <tr>\n",
       "      <th>4</th>\n",
       "      <td>occ_6</td>\n",
       "      <td>3.697959</td>\n",
       "    </tr>\n",
       "    <tr>\n",
       "      <th>5</th>\n",
       "      <td>occ_husb_2</td>\n",
       "      <td>5.566292</td>\n",
       "    </tr>\n",
       "    <tr>\n",
       "      <th>6</th>\n",
       "      <td>occ_husb_3</td>\n",
       "      <td>2.991070</td>\n",
       "    </tr>\n",
       "    <tr>\n",
       "      <th>7</th>\n",
       "      <td>occ_husb_4</td>\n",
       "      <td>6.930281</td>\n",
       "    </tr>\n",
       "    <tr>\n",
       "      <th>8</th>\n",
       "      <td>occ_husb_5</td>\n",
       "      <td>6.577077</td>\n",
       "    </tr>\n",
       "    <tr>\n",
       "      <th>9</th>\n",
       "      <td>occ_husb_6</td>\n",
       "      <td>3.185266</td>\n",
       "    </tr>\n",
       "    <tr>\n",
       "      <th>10</th>\n",
       "      <td>rate_marriage</td>\n",
       "      <td>1.038746</td>\n",
       "    </tr>\n",
       "    <tr>\n",
       "      <th>11</th>\n",
       "      <td>age</td>\n",
       "      <td>5.477890</td>\n",
       "    </tr>\n",
       "    <tr>\n",
       "      <th>12</th>\n",
       "      <td>yrs_married</td>\n",
       "      <td>7.169611</td>\n",
       "    </tr>\n",
       "    <tr>\n",
       "      <th>13</th>\n",
       "      <td>children</td>\n",
       "      <td>2.585691</td>\n",
       "    </tr>\n",
       "    <tr>\n",
       "      <th>14</th>\n",
       "      <td>religious</td>\n",
       "      <td>1.037556</td>\n",
       "    </tr>\n",
       "    <tr>\n",
       "      <th>15</th>\n",
       "      <td>educ</td>\n",
       "      <td>1.635790</td>\n",
       "    </tr>\n",
       "  </tbody>\n",
       "</table>\n",
       "</div>"
      ],
      "text/plain": [
       "         Features        VIF\n",
       "0           occ_2  19.340780\n",
       "1           occ_3  39.335618\n",
       "2           occ_4  32.931910\n",
       "3           occ_5  17.057165\n",
       "4           occ_6   3.697959\n",
       "5      occ_husb_2   5.566292\n",
       "6      occ_husb_3   2.991070\n",
       "7      occ_husb_4   6.930281\n",
       "8      occ_husb_5   6.577077\n",
       "9      occ_husb_6   3.185266\n",
       "10  rate_marriage   1.038746\n",
       "11            age   5.477890\n",
       "12    yrs_married   7.169611\n",
       "13       children   2.585691\n",
       "14      religious   1.037556\n",
       "15           educ   1.635790"
      ]
     },
     "execution_count": 8,
     "metadata": {},
     "output_type": "execute_result"
    }
   ],
   "source": [
    "# First scale the dataset and then check for multicollinearity\n",
    "\n",
    "#### standarisation: We use the Standardscaler from sklearn library\n",
    "from sklearn.preprocessing import StandardScaler\n",
    "scaler=StandardScaler()\n",
    "\n",
    "### fit_transform\n",
    "X_scaled=scaler.fit_transform(X.drop('Intercept', axis=1))\n",
    "\n",
    "# we use variance_inflation_factor from statsmodels library\n",
    "from statsmodels.stats.outliers_influence import variance_inflation_factor\n",
    "\n",
    "# we create a new data frame which will include all the VIFs\n",
    "# note that each variable has its own variance inflation factor as this measure is variable specific (not model specific)\n",
    "vif = pd.DataFrame()\n",
    "\n",
    "# Include names of features so it is easier to explore the result\n",
    "vif[\"Features\"] = X.columns[1:]\n",
    "\n",
    "# here we make use of the variance_inflation_factor, which will basically output the respective VIFs \n",
    "vif[\"VIF\"] = [variance_inflation_factor(X_scaled, i) for i in range(X_scaled.shape[1])]\n",
    "vif"
   ]
  },
  {
   "cell_type": "markdown",
   "id": "21ecaaa5",
   "metadata": {},
   "source": [
    "#### Here, we have the correlation values for all the features. The VIFs for occupation features are more than 10, indicating that multicollinearity is a serious concern. Lets check the VIFs after removing oct_s feature."
   ]
  },
  {
   "cell_type": "code",
   "execution_count": 9,
   "id": "d860b81c",
   "metadata": {},
   "outputs": [
    {
     "data": {
      "text/html": [
       "<div>\n",
       "<style scoped>\n",
       "    .dataframe tbody tr th:only-of-type {\n",
       "        vertical-align: middle;\n",
       "    }\n",
       "\n",
       "    .dataframe tbody tr th {\n",
       "        vertical-align: top;\n",
       "    }\n",
       "\n",
       "    .dataframe thead th {\n",
       "        text-align: right;\n",
       "    }\n",
       "</style>\n",
       "<table border=\"1\" class=\"dataframe\">\n",
       "  <thead>\n",
       "    <tr style=\"text-align: right;\">\n",
       "      <th></th>\n",
       "      <th>Features</th>\n",
       "      <th>VIF</th>\n",
       "    </tr>\n",
       "  </thead>\n",
       "  <tbody>\n",
       "    <tr>\n",
       "      <th>0</th>\n",
       "      <td>occ_2</td>\n",
       "      <td>1.177578</td>\n",
       "    </tr>\n",
       "    <tr>\n",
       "      <th>1</th>\n",
       "      <td>occ_4</td>\n",
       "      <td>1.581345</td>\n",
       "    </tr>\n",
       "    <tr>\n",
       "      <th>2</th>\n",
       "      <td>occ_5</td>\n",
       "      <td>1.151845</td>\n",
       "    </tr>\n",
       "    <tr>\n",
       "      <th>3</th>\n",
       "      <td>occ_6</td>\n",
       "      <td>1.166553</td>\n",
       "    </tr>\n",
       "    <tr>\n",
       "      <th>4</th>\n",
       "      <td>occ_husb_2</td>\n",
       "      <td>5.530741</td>\n",
       "    </tr>\n",
       "    <tr>\n",
       "      <th>5</th>\n",
       "      <td>occ_husb_3</td>\n",
       "      <td>2.976197</td>\n",
       "    </tr>\n",
       "    <tr>\n",
       "      <th>6</th>\n",
       "      <td>occ_husb_4</td>\n",
       "      <td>6.886803</td>\n",
       "    </tr>\n",
       "    <tr>\n",
       "      <th>7</th>\n",
       "      <td>occ_husb_5</td>\n",
       "      <td>6.533262</td>\n",
       "    </tr>\n",
       "    <tr>\n",
       "      <th>8</th>\n",
       "      <td>occ_husb_6</td>\n",
       "      <td>3.175292</td>\n",
       "    </tr>\n",
       "    <tr>\n",
       "      <th>9</th>\n",
       "      <td>rate_marriage</td>\n",
       "      <td>1.038535</td>\n",
       "    </tr>\n",
       "    <tr>\n",
       "      <th>10</th>\n",
       "      <td>age</td>\n",
       "      <td>5.474645</td>\n",
       "    </tr>\n",
       "    <tr>\n",
       "      <th>11</th>\n",
       "      <td>yrs_married</td>\n",
       "      <td>7.169399</td>\n",
       "    </tr>\n",
       "    <tr>\n",
       "      <th>12</th>\n",
       "      <td>children</td>\n",
       "      <td>2.584649</td>\n",
       "    </tr>\n",
       "    <tr>\n",
       "      <th>13</th>\n",
       "      <td>religious</td>\n",
       "      <td>1.037501</td>\n",
       "    </tr>\n",
       "    <tr>\n",
       "      <th>14</th>\n",
       "      <td>educ</td>\n",
       "      <td>1.629213</td>\n",
       "    </tr>\n",
       "  </tbody>\n",
       "</table>\n",
       "</div>"
      ],
      "text/plain": [
       "         Features       VIF\n",
       "0           occ_2  1.177578\n",
       "1           occ_4  1.581345\n",
       "2           occ_5  1.151845\n",
       "3           occ_6  1.166553\n",
       "4      occ_husb_2  5.530741\n",
       "5      occ_husb_3  2.976197\n",
       "6      occ_husb_4  6.886803\n",
       "7      occ_husb_5  6.533262\n",
       "8      occ_husb_6  3.175292\n",
       "9   rate_marriage  1.038535\n",
       "10            age  5.474645\n",
       "11    yrs_married  7.169399\n",
       "12       children  2.584649\n",
       "13      religious  1.037501\n",
       "14           educ  1.629213"
      ]
     },
     "execution_count": 9,
     "metadata": {},
     "output_type": "execute_result"
    }
   ],
   "source": [
    "# delete the oct_3 feature from df_scaled\n",
    "X_scaled1 = np.delete(X_scaled, 1, 1)\n",
    "\n",
    "vif = pd.DataFrame()\n",
    "\n",
    "# Include names of features so it is easier to explore the result\n",
    "vif[\"Features\"] = np.delete(X.columns, [0, 2], 0)\n",
    "\n",
    "# here we make use of the variance_inflation_factor, which will basically output the respective VIFs \n",
    "vif[\"VIF\"] = [variance_inflation_factor(X_scaled1, i) for i in range(X_scaled1.shape[1])]\n",
    "vif"
   ]
  },
  {
   "cell_type": "markdown",
   "id": "d45baa8a",
   "metadata": {},
   "source": [
    "#### All the VIFs are now less than 10. We will first build the model with all the features and then without the oct_3 feature and compare the results."
   ]
  },
  {
   "cell_type": "code",
   "execution_count": 10,
   "id": "6eb7bd97",
   "metadata": {},
   "outputs": [],
   "source": [
    "# Add the intercept column to the scaled data\n",
    "df_scaled = pd.DataFrame(X_scaled)\n",
    "df_scaled = pd.concat([X['Intercept'], df_scaled], axis=1)"
   ]
  },
  {
   "cell_type": "markdown",
   "id": "409d748e",
   "metadata": {},
   "source": [
    "### Splitting the data into train and test set, fitting the classification model and doing prediction"
   ]
  },
  {
   "cell_type": "code",
   "execution_count": 11,
   "id": "37b9293a",
   "metadata": {},
   "outputs": [
    {
     "name": "stdout",
     "output_type": "stream",
     "text": [
      "(5092, 17)\n",
      "(5092,)\n",
      "(1274, 17)\n",
      "(1274,)\n"
     ]
    }
   ],
   "source": [
    "y = np.ravel(y)\n",
    "x_train, x_test, y_train, y_test = train_test_split(df_scaled, y, test_size=0.2, random_state=1)\n",
    "print(x_train.shape)\n",
    "print(y_train.shape)\n",
    "print(x_test.shape)\n",
    "print(y_test.shape)\n",
    "\n",
    "clf = LogisticRegression()\n",
    "clf.fit(x_train, y_train)\n",
    "y_test_predicted = clf.predict(x_test)\n",
    "y_train_predicted = clf.predict(x_train)"
   ]
  },
  {
   "cell_type": "code",
   "execution_count": 12,
   "id": "22dccfee",
   "metadata": {},
   "outputs": [
    {
     "data": {
      "text/plain": [
       "array([1., 1., 0., ..., 1., 1., 0.])"
      ]
     },
     "execution_count": 12,
     "metadata": {},
     "output_type": "execute_result"
    }
   ],
   "source": [
    "y_test_predicted"
   ]
  },
  {
   "cell_type": "code",
   "execution_count": 13,
   "id": "698f83ef",
   "metadata": {},
   "outputs": [
    {
     "data": {
      "text/plain": [
       "array([[0.42504868, 0.57495132],\n",
       "       [0.43710908, 0.56289092],\n",
       "       [0.60817733, 0.39182267],\n",
       "       ...,\n",
       "       [0.21794381, 0.78205619],\n",
       "       [0.24778883, 0.75221117],\n",
       "       [0.76551243, 0.23448757]])"
      ]
     },
     "execution_count": 13,
     "metadata": {},
     "output_type": "execute_result"
    }
   ],
   "source": [
    "pred_probs = clf.predict_proba(x_test)\n",
    "pred_probs"
   ]
  },
  {
   "cell_type": "markdown",
   "id": "27e03527",
   "metadata": {},
   "source": [
    "#### Coefficients of the features"
   ]
  },
  {
   "cell_type": "code",
   "execution_count": 14,
   "id": "ecfcb679",
   "metadata": {},
   "outputs": [
    {
     "data": {
      "text/html": [
       "<div>\n",
       "<style scoped>\n",
       "    .dataframe tbody tr th:only-of-type {\n",
       "        vertical-align: middle;\n",
       "    }\n",
       "\n",
       "    .dataframe tbody tr th {\n",
       "        vertical-align: top;\n",
       "    }\n",
       "\n",
       "    .dataframe thead th {\n",
       "        text-align: right;\n",
       "    }\n",
       "</style>\n",
       "<table border=\"1\" class=\"dataframe\">\n",
       "  <thead>\n",
       "    <tr style=\"text-align: right;\">\n",
       "      <th></th>\n",
       "      <th>Features</th>\n",
       "      <th>Coefficients</th>\n",
       "    </tr>\n",
       "  </thead>\n",
       "  <tbody>\n",
       "    <tr>\n",
       "      <th>0</th>\n",
       "      <td>Intercept</td>\n",
       "      <td>0.001189</td>\n",
       "    </tr>\n",
       "    <tr>\n",
       "      <th>1</th>\n",
       "      <td>occ_2</td>\n",
       "      <td>0.141282</td>\n",
       "    </tr>\n",
       "    <tr>\n",
       "      <th>2</th>\n",
       "      <td>occ_3</td>\n",
       "      <td>0.377146</td>\n",
       "    </tr>\n",
       "    <tr>\n",
       "      <th>3</th>\n",
       "      <td>occ_4</td>\n",
       "      <td>0.269855</td>\n",
       "    </tr>\n",
       "    <tr>\n",
       "      <th>4</th>\n",
       "      <td>occ_5</td>\n",
       "      <td>0.368905</td>\n",
       "    </tr>\n",
       "    <tr>\n",
       "      <th>5</th>\n",
       "      <td>occ_6</td>\n",
       "      <td>0.156857</td>\n",
       "    </tr>\n",
       "    <tr>\n",
       "      <th>6</th>\n",
       "      <td>occ_husb_2</td>\n",
       "      <td>-0.009684</td>\n",
       "    </tr>\n",
       "    <tr>\n",
       "      <th>7</th>\n",
       "      <td>occ_husb_3</td>\n",
       "      <td>0.036007</td>\n",
       "    </tr>\n",
       "    <tr>\n",
       "      <th>8</th>\n",
       "      <td>occ_husb_4</td>\n",
       "      <td>0.005228</td>\n",
       "    </tr>\n",
       "    <tr>\n",
       "      <th>9</th>\n",
       "      <td>occ_husb_5</td>\n",
       "      <td>0.005609</td>\n",
       "    </tr>\n",
       "    <tr>\n",
       "      <th>10</th>\n",
       "      <td>occ_husb_6</td>\n",
       "      <td>0.015445</td>\n",
       "    </tr>\n",
       "    <tr>\n",
       "      <th>11</th>\n",
       "      <td>rate_marriage</td>\n",
       "      <td>-0.679320</td>\n",
       "    </tr>\n",
       "    <tr>\n",
       "      <th>12</th>\n",
       "      <td>age</td>\n",
       "      <td>-0.419191</td>\n",
       "    </tr>\n",
       "    <tr>\n",
       "      <th>13</th>\n",
       "      <td>yrs_married</td>\n",
       "      <td>0.798473</td>\n",
       "    </tr>\n",
       "    <tr>\n",
       "      <th>14</th>\n",
       "      <td>children</td>\n",
       "      <td>0.001185</td>\n",
       "    </tr>\n",
       "    <tr>\n",
       "      <th>15</th>\n",
       "      <td>religious</td>\n",
       "      <td>-0.303797</td>\n",
       "    </tr>\n",
       "    <tr>\n",
       "      <th>16</th>\n",
       "      <td>educ</td>\n",
       "      <td>-0.013461</td>\n",
       "    </tr>\n",
       "  </tbody>\n",
       "</table>\n",
       "</div>"
      ],
      "text/plain": [
       "         Features  Coefficients\n",
       "0       Intercept      0.001189\n",
       "1           occ_2      0.141282\n",
       "2           occ_3      0.377146\n",
       "3           occ_4      0.269855\n",
       "4           occ_5      0.368905\n",
       "5           occ_6      0.156857\n",
       "6      occ_husb_2     -0.009684\n",
       "7      occ_husb_3      0.036007\n",
       "8      occ_husb_4      0.005228\n",
       "9      occ_husb_5      0.005609\n",
       "10     occ_husb_6      0.015445\n",
       "11  rate_marriage     -0.679320\n",
       "12            age     -0.419191\n",
       "13    yrs_married      0.798473\n",
       "14       children      0.001185\n",
       "15      religious     -0.303797\n",
       "16           educ     -0.013461"
      ]
     },
     "execution_count": 14,
     "metadata": {},
     "output_type": "execute_result"
    }
   ],
   "source": [
    "df_coef=pd.DataFrame()\n",
    "df_coef['Features'] = X.columns\n",
    "df_coef['Coefficients'] = np.transpose(clf.coef_)\n",
    "df_coef"
   ]
  },
  {
   "cell_type": "markdown",
   "id": "681c3c3f",
   "metadata": {},
   "source": [
    "#### Here age feature is having negative coefficient which is not correct, as we have seen previously that with increase in woman's age, chances of affair increase. It seems age and yrs_married features are correlated. We may consider droping one of them from our model."
   ]
  },
  {
   "cell_type": "code",
   "execution_count": 15,
   "id": "1030284e",
   "metadata": {
    "scrolled": false
   },
   "outputs": [
    {
     "name": "stdout",
     "output_type": "stream",
     "text": [
      "Train set accuracy score:  0.7228986645718775\n",
      "Test set accuracy score : 0.7401883830455259\n"
     ]
    }
   ],
   "source": [
    "print(\"Train set accuracy score: \", metrics.accuracy_score(y_train, y_train_predicted))\n",
    "print(\"Test set accuracy score :\",  metrics.accuracy_score(y_test, y_test_predicted))"
   ]
  },
  {
   "cell_type": "markdown",
   "id": "1b5760dc",
   "metadata": {},
   "source": [
    "#### As we see that training and test dataset have similar accuracy score, there is no overfitting in our model."
   ]
  },
  {
   "cell_type": "markdown",
   "id": "e631b962",
   "metadata": {},
   "source": [
    "### Confusion matrix to check TP, TN, FP, FN values"
   ]
  },
  {
   "cell_type": "code",
   "execution_count": 16,
   "id": "752f6059",
   "metadata": {},
   "outputs": [
    {
     "data": {
      "text/plain": [
       "array([[782,  90],\n",
       "       [241, 161]], dtype=int64)"
      ]
     },
     "execution_count": 16,
     "metadata": {},
     "output_type": "execute_result"
    }
   ],
   "source": [
    "conf_mat = metrics.confusion_matrix(y_test, y_test_predicted)\n",
    "conf_mat"
   ]
  },
  {
   "cell_type": "code",
   "execution_count": 17,
   "id": "a6201b76",
   "metadata": {},
   "outputs": [
    {
     "data": {
      "image/png": "[encoded data removed]",
      "text/plain": [
       "<Figure size 432x288 with 2 Axes>"
      ]
     },
     "metadata": {
      "needs_background": "light"
     },
     "output_type": "display_data"
    }
   ],
   "source": [
    "metrics.plot_confusion_matrix(clf, x_test, y_test)\n",
    "plt.xlabel(\"Predicted label\",fontsize=15)\n",
    "plt.ylabel(\"True label\",fontsize=15)\n",
    "plt.show()"
   ]
  },
  {
   "cell_type": "markdown",
   "id": "15383d9d",
   "metadata": {},
   "source": [
    "#### Here we should be careful about FP, because if our model predicts that woman is having affair, but in actual she is not having any affair, this may lead to divorce for the mistake she has not done. So we should show some carefulness about FP value when we are dealing with such sensitive kind of predictions."
   ]
  },
  {
   "cell_type": "markdown",
   "id": "bbf082b6",
   "metadata": {},
   "source": [
    "### Finding Precision, Recall, F1-Score"
   ]
  },
  {
   "cell_type": "code",
   "execution_count": 18,
   "id": "2cee31d1",
   "metadata": {},
   "outputs": [],
   "source": [
    "true_negative = conf_mat[0][0]\n",
    "false_positive = conf_mat[0][1]\n",
    "false_negative = conf_mat[1][0]\n",
    "true_positive = conf_mat[1][1]"
   ]
  },
  {
   "cell_type": "code",
   "execution_count": 19,
   "id": "8cf3711d",
   "metadata": {},
   "outputs": [
    {
     "data": {
      "text/plain": [
       "0.7401883830455259"
      ]
     },
     "execution_count": 19,
     "metadata": {},
     "output_type": "execute_result"
    }
   ],
   "source": [
    "# Breaking down the formula for Accuracy\n",
    "Accuracy = (true_positive + true_negative) / (true_positive + false_positive + false_negative + true_negative)\n",
    "Accuracy"
   ]
  },
  {
   "cell_type": "code",
   "execution_count": 20,
   "id": "c7db6b77",
   "metadata": {},
   "outputs": [
    {
     "data": {
      "text/plain": [
       "0.6414342629482072"
      ]
     },
     "execution_count": 20,
     "metadata": {},
     "output_type": "execute_result"
    }
   ],
   "source": [
    "# Precison\n",
    "Precision = true_positive/(true_positive+false_positive)\n",
    "Precision"
   ]
  },
  {
   "cell_type": "code",
   "execution_count": 21,
   "id": "ffec968e",
   "metadata": {},
   "outputs": [
    {
     "data": {
      "text/plain": [
       "0.40049751243781095"
      ]
     },
     "execution_count": 21,
     "metadata": {},
     "output_type": "execute_result"
    }
   ],
   "source": [
    "# Recall\n",
    "Recall = true_positive/(true_positive+false_negative)\n",
    "Recall"
   ]
  },
  {
   "cell_type": "code",
   "execution_count": 22,
   "id": "f0c2e998",
   "metadata": {},
   "outputs": [
    {
     "data": {
      "text/plain": [
       "0.49310872894333846"
      ]
     },
     "execution_count": 22,
     "metadata": {},
     "output_type": "execute_result"
    }
   ],
   "source": [
    "# F1 Score\n",
    "F1_Score = 2*(Recall * Precision) / (Recall + Precision)\n",
    "F1_Score"
   ]
  },
  {
   "cell_type": "code",
   "execution_count": 23,
   "id": "49cf4ec9",
   "metadata": {},
   "outputs": [
    {
     "name": "stdout",
     "output_type": "stream",
     "text": [
      "              precision    recall  f1-score   support\n",
      "\n",
      "         0.0       0.76      0.90      0.83       872\n",
      "         1.0       0.64      0.40      0.49       402\n",
      "\n",
      "    accuracy                           0.74      1274\n",
      "   macro avg       0.70      0.65      0.66      1274\n",
      "weighted avg       0.73      0.74      0.72      1274\n",
      "\n"
     ]
    }
   ],
   "source": [
    "print(metrics.classification_report(y_test, y_test_predicted))"
   ]
  },
  {
   "cell_type": "markdown",
   "id": "0349bae4",
   "metadata": {},
   "source": [
    "### Model Evaluation Using Cross-Validation\n",
    "Now let's try 10-fold cross-validation, to see if the accuracy holds up more rigorously."
   ]
  },
  {
   "cell_type": "code",
   "execution_count": 24,
   "id": "f4da4c5e",
   "metadata": {
    "scrolled": false
   },
   "outputs": [
    {
     "data": {
      "text/plain": [
       "(array([0.72156863, 0.72352941, 0.72495088, 0.71709234, 0.74263261,\n",
       "        0.6935167 , 0.72102161, 0.73084479, 0.72102161, 0.72298625]),\n",
       " 0.7219164836858123)"
      ]
     },
     "execution_count": 24,
     "metadata": {},
     "output_type": "execute_result"
    }
   ],
   "source": [
    "# evaluate the model using 10-fold cross-validation\n",
    "scores = cross_val_score(LogisticRegression(), x_train, y_train, scoring='accuracy', cv=10)\n",
    "scores, scores.mean()"
   ]
  },
  {
   "cell_type": "markdown",
   "id": "d825b195",
   "metadata": {},
   "source": [
    "#### Looks good. Model still performing at 72% accuracy."
   ]
  },
  {
   "cell_type": "markdown",
   "id": "94526b72",
   "metadata": {},
   "source": [
    "### Dropping columns with high VIF. Model without the oct_3 and yrs_married features"
   ]
  },
  {
   "cell_type": "code",
   "execution_count": 25,
   "id": "a413a490",
   "metadata": {},
   "outputs": [
    {
     "data": {
      "text/html": [
       "<div>\n",
       "<style scoped>\n",
       "    .dataframe tbody tr th:only-of-type {\n",
       "        vertical-align: middle;\n",
       "    }\n",
       "\n",
       "    .dataframe tbody tr th {\n",
       "        vertical-align: top;\n",
       "    }\n",
       "\n",
       "    .dataframe thead th {\n",
       "        text-align: right;\n",
       "    }\n",
       "</style>\n",
       "<table border=\"1\" class=\"dataframe\">\n",
       "  <thead>\n",
       "    <tr style=\"text-align: right;\">\n",
       "      <th></th>\n",
       "      <th>Features</th>\n",
       "      <th>VIF</th>\n",
       "    </tr>\n",
       "  </thead>\n",
       "  <tbody>\n",
       "    <tr>\n",
       "      <th>0</th>\n",
       "      <td>occ_2</td>\n",
       "      <td>1.175634</td>\n",
       "    </tr>\n",
       "    <tr>\n",
       "      <th>1</th>\n",
       "      <td>occ_4</td>\n",
       "      <td>1.578579</td>\n",
       "    </tr>\n",
       "    <tr>\n",
       "      <th>2</th>\n",
       "      <td>occ_5</td>\n",
       "      <td>1.151816</td>\n",
       "    </tr>\n",
       "    <tr>\n",
       "      <th>3</th>\n",
       "      <td>occ_6</td>\n",
       "      <td>1.166521</td>\n",
       "    </tr>\n",
       "    <tr>\n",
       "      <th>4</th>\n",
       "      <td>occ_husb_2</td>\n",
       "      <td>5.530141</td>\n",
       "    </tr>\n",
       "    <tr>\n",
       "      <th>5</th>\n",
       "      <td>occ_husb_3</td>\n",
       "      <td>2.975854</td>\n",
       "    </tr>\n",
       "    <tr>\n",
       "      <th>6</th>\n",
       "      <td>occ_husb_4</td>\n",
       "      <td>6.886735</td>\n",
       "    </tr>\n",
       "    <tr>\n",
       "      <th>7</th>\n",
       "      <td>occ_husb_5</td>\n",
       "      <td>6.533231</td>\n",
       "    </tr>\n",
       "    <tr>\n",
       "      <th>8</th>\n",
       "      <td>occ_husb_6</td>\n",
       "      <td>3.175042</td>\n",
       "    </tr>\n",
       "    <tr>\n",
       "      <th>9</th>\n",
       "      <td>rate_marriage</td>\n",
       "      <td>1.038240</td>\n",
       "    </tr>\n",
       "    <tr>\n",
       "      <th>10</th>\n",
       "      <td>age</td>\n",
       "      <td>1.953714</td>\n",
       "    </tr>\n",
       "    <tr>\n",
       "      <th>11</th>\n",
       "      <td>children</td>\n",
       "      <td>1.983533</td>\n",
       "    </tr>\n",
       "    <tr>\n",
       "      <th>12</th>\n",
       "      <td>religious</td>\n",
       "      <td>1.037501</td>\n",
       "    </tr>\n",
       "    <tr>\n",
       "      <th>13</th>\n",
       "      <td>educ</td>\n",
       "      <td>1.581875</td>\n",
       "    </tr>\n",
       "  </tbody>\n",
       "</table>\n",
       "</div>"
      ],
      "text/plain": [
       "         Features       VIF\n",
       "0           occ_2  1.175634\n",
       "1           occ_4  1.578579\n",
       "2           occ_5  1.151816\n",
       "3           occ_6  1.166521\n",
       "4      occ_husb_2  5.530141\n",
       "5      occ_husb_3  2.975854\n",
       "6      occ_husb_4  6.886735\n",
       "7      occ_husb_5  6.533231\n",
       "8      occ_husb_6  3.175042\n",
       "9   rate_marriage  1.038240\n",
       "10            age  1.953714\n",
       "11       children  1.983533\n",
       "12      religious  1.037501\n",
       "13           educ  1.581875"
      ]
     },
     "execution_count": 25,
     "metadata": {},
     "output_type": "execute_result"
    }
   ],
   "source": [
    "X_scaled2 = np.delete(X_scaled1, 11, 1)\n",
    "\n",
    "# we create a new data frame which will include all the VIFs\n",
    "vif = pd.DataFrame()\n",
    "\n",
    "# Include names of features so it is easier to explore the result\n",
    "vif[\"Features\"] = np.delete(X.columns, [0, 2, 13], 0)\n",
    "\n",
    "# here we make use of the variance_inflation_factor, which will basically output the respective VIFs \n",
    "vif[\"VIF\"] = [variance_inflation_factor(X_scaled2, i) for i in range(X_scaled2.shape[1])]\n",
    "vif"
   ]
  },
  {
   "cell_type": "code",
   "execution_count": 26,
   "id": "64996a31",
   "metadata": {},
   "outputs": [],
   "source": [
    "# Add the intercept column to the scaled data\n",
    "df_scaled = pd.DataFrame(X_scaled2)\n",
    "df_scaled = pd.concat([X['Intercept'], df_scaled], axis=1)"
   ]
  },
  {
   "cell_type": "code",
   "execution_count": 27,
   "id": "d8c5aa8c",
   "metadata": {},
   "outputs": [
    {
     "name": "stdout",
     "output_type": "stream",
     "text": [
      "(5092, 15)\n",
      "(5092,)\n",
      "(1274, 15)\n",
      "(1274,)\n",
      "Train set accuracy score:  0.7189709347996858\n",
      "Test set accuracy score : 0.728414442700157\n"
     ]
    }
   ],
   "source": [
    "# Splitting the data into train and test set, fitting the classification model and doing prediction\n",
    "x_train, x_test, y_train, y_test = train_test_split(df_scaled, y, test_size=0.2, random_state=1)\n",
    "print(x_train.shape)\n",
    "print(y_train.shape)\n",
    "print(x_test.shape)\n",
    "print(y_test.shape)\n",
    "clf = LogisticRegression()\n",
    "clf.fit(x_train, y_train)\n",
    "y_test_predicted = clf.predict(x_test)\n",
    "y_train_predicted = clf.predict(x_train)\n",
    "pred_probs = clf.predict_proba(x_test)\n",
    "print(\"Train set accuracy score: \", metrics.accuracy_score(y_train, y_train_predicted))\n",
    "print(\"Test set accuracy score :\",  metrics.accuracy_score(y_test, y_test_predicted))"
   ]
  },
  {
   "cell_type": "code",
   "execution_count": 28,
   "id": "3726c090",
   "metadata": {},
   "outputs": [
    {
     "data": {
      "image/png": "[encoded data removed]",
      "text/plain": [
       "<Figure size 432x288 with 2 Axes>"
      ]
     },
     "metadata": {
      "needs_background": "light"
     },
     "output_type": "display_data"
    }
   ],
   "source": [
    "metrics.plot_confusion_matrix(clf, x_test, y_test)\n",
    "plt.xlabel(\"Predicted label\",fontsize=15)\n",
    "plt.ylabel(\"True label\",fontsize=15)\n",
    "plt.show()"
   ]
  },
  {
   "cell_type": "code",
   "execution_count": 29,
   "id": "f1efeb66",
   "metadata": {
    "scrolled": false
   },
   "outputs": [
    {
     "name": "stdout",
     "output_type": "stream",
     "text": [
      "              precision    recall  f1-score   support\n",
      "\n",
      "         0.0       0.75      0.90      0.82       872\n",
      "         1.0       0.62      0.36      0.45       402\n",
      "\n",
      "    accuracy                           0.73      1274\n",
      "   macro avg       0.69      0.63      0.64      1274\n",
      "weighted avg       0.71      0.73      0.70      1274\n",
      "\n"
     ]
    }
   ],
   "source": [
    "print(metrics.classification_report(y_test, y_test_predicted))"
   ]
  },
  {
   "cell_type": "markdown",
   "id": "4a607c02",
   "metadata": {},
   "source": [
    "#### Accuracy, Precision, Recall, F1-score values are similar to our previous model having all the features."
   ]
  },
  {
   "cell_type": "markdown",
   "id": "8e395676",
   "metadata": {},
   "source": [
    "#### Coefficients of the features"
   ]
  },
  {
   "cell_type": "code",
   "execution_count": 30,
   "id": "ea7fc01b",
   "metadata": {},
   "outputs": [
    {
     "data": {
      "text/html": [
       "<div>\n",
       "<style scoped>\n",
       "    .dataframe tbody tr th:only-of-type {\n",
       "        vertical-align: middle;\n",
       "    }\n",
       "\n",
       "    .dataframe tbody tr th {\n",
       "        vertical-align: top;\n",
       "    }\n",
       "\n",
       "    .dataframe thead th {\n",
       "        text-align: right;\n",
       "    }\n",
       "</style>\n",
       "<table border=\"1\" class=\"dataframe\">\n",
       "  <thead>\n",
       "    <tr style=\"text-align: right;\">\n",
       "      <th></th>\n",
       "      <th>Features</th>\n",
       "      <th>Coefficients</th>\n",
       "    </tr>\n",
       "  </thead>\n",
       "  <tbody>\n",
       "    <tr>\n",
       "      <th>0</th>\n",
       "      <td>Intercept</td>\n",
       "      <td>-0.000013</td>\n",
       "    </tr>\n",
       "    <tr>\n",
       "      <th>1</th>\n",
       "      <td>occ_2</td>\n",
       "      <td>-0.128163</td>\n",
       "    </tr>\n",
       "    <tr>\n",
       "      <th>2</th>\n",
       "      <td>occ_4</td>\n",
       "      <td>-0.081041</td>\n",
       "    </tr>\n",
       "    <tr>\n",
       "      <th>3</th>\n",
       "      <td>occ_5</td>\n",
       "      <td>0.131738</td>\n",
       "    </tr>\n",
       "    <tr>\n",
       "      <th>4</th>\n",
       "      <td>occ_6</td>\n",
       "      <td>0.059449</td>\n",
       "    </tr>\n",
       "    <tr>\n",
       "      <th>5</th>\n",
       "      <td>occ_husb_2</td>\n",
       "      <td>0.006193</td>\n",
       "    </tr>\n",
       "    <tr>\n",
       "      <th>6</th>\n",
       "      <td>occ_husb_3</td>\n",
       "      <td>0.040910</td>\n",
       "    </tr>\n",
       "    <tr>\n",
       "      <th>7</th>\n",
       "      <td>occ_husb_4</td>\n",
       "      <td>0.025284</td>\n",
       "    </tr>\n",
       "    <tr>\n",
       "      <th>8</th>\n",
       "      <td>occ_husb_5</td>\n",
       "      <td>0.026383</td>\n",
       "    </tr>\n",
       "    <tr>\n",
       "      <th>9</th>\n",
       "      <td>occ_husb_6</td>\n",
       "      <td>0.020830</td>\n",
       "    </tr>\n",
       "    <tr>\n",
       "      <th>10</th>\n",
       "      <td>rate_marriage</td>\n",
       "      <td>-0.672686</td>\n",
       "    </tr>\n",
       "    <tr>\n",
       "      <th>11</th>\n",
       "      <td>age</td>\n",
       "      <td>0.156703</td>\n",
       "    </tr>\n",
       "    <tr>\n",
       "      <th>12</th>\n",
       "      <td>children</td>\n",
       "      <td>0.218715</td>\n",
       "    </tr>\n",
       "    <tr>\n",
       "      <th>13</th>\n",
       "      <td>religious</td>\n",
       "      <td>-0.300047</td>\n",
       "    </tr>\n",
       "    <tr>\n",
       "      <th>14</th>\n",
       "      <td>educ</td>\n",
       "      <td>-0.085410</td>\n",
       "    </tr>\n",
       "  </tbody>\n",
       "</table>\n",
       "</div>"
      ],
      "text/plain": [
       "         Features  Coefficients\n",
       "0       Intercept     -0.000013\n",
       "1           occ_2     -0.128163\n",
       "2           occ_4     -0.081041\n",
       "3           occ_5      0.131738\n",
       "4           occ_6      0.059449\n",
       "5      occ_husb_2      0.006193\n",
       "6      occ_husb_3      0.040910\n",
       "7      occ_husb_4      0.025284\n",
       "8      occ_husb_5      0.026383\n",
       "9      occ_husb_6      0.020830\n",
       "10  rate_marriage     -0.672686\n",
       "11            age      0.156703\n",
       "12       children      0.218715\n",
       "13      religious     -0.300047\n",
       "14           educ     -0.085410"
      ]
     },
     "execution_count": 30,
     "metadata": {},
     "output_type": "execute_result"
    }
   ],
   "source": [
    "df_coef=pd.DataFrame()\n",
    "df_coef['Features'] = np.delete(X.columns, [2, 13], 0)\n",
    "df_coef['Coefficients'] = np.transpose(clf.coef_)\n",
    "df_coef"
   ]
  },
  {
   "cell_type": "markdown",
   "id": "69b5200e",
   "metadata": {},
   "source": [
    "#### Here age feature is having positive coefficient which is correct."
   ]
  },
  {
   "cell_type": "markdown",
   "id": "4f0daecc",
   "metadata": {},
   "source": [
    "### Dropping columns with high VIF. Model without the oct_3 and age features"
   ]
  },
  {
   "cell_type": "code",
   "execution_count": 31,
   "id": "cc51ae7a",
   "metadata": {
    "scrolled": false
   },
   "outputs": [
    {
     "data": {
      "text/html": [
       "<div>\n",
       "<style scoped>\n",
       "    .dataframe tbody tr th:only-of-type {\n",
       "        vertical-align: middle;\n",
       "    }\n",
       "\n",
       "    .dataframe tbody tr th {\n",
       "        vertical-align: top;\n",
       "    }\n",
       "\n",
       "    .dataframe thead th {\n",
       "        text-align: right;\n",
       "    }\n",
       "</style>\n",
       "<table border=\"1\" class=\"dataframe\">\n",
       "  <thead>\n",
       "    <tr style=\"text-align: right;\">\n",
       "      <th></th>\n",
       "      <th>Features</th>\n",
       "      <th>VIF</th>\n",
       "    </tr>\n",
       "  </thead>\n",
       "  <tbody>\n",
       "    <tr>\n",
       "      <th>0</th>\n",
       "      <td>occ_2</td>\n",
       "      <td>1.177502</td>\n",
       "    </tr>\n",
       "    <tr>\n",
       "      <th>1</th>\n",
       "      <td>occ_4</td>\n",
       "      <td>1.580247</td>\n",
       "    </tr>\n",
       "    <tr>\n",
       "      <th>2</th>\n",
       "      <td>occ_5</td>\n",
       "      <td>1.150833</td>\n",
       "    </tr>\n",
       "    <tr>\n",
       "      <th>3</th>\n",
       "      <td>occ_6</td>\n",
       "      <td>1.166276</td>\n",
       "    </tr>\n",
       "    <tr>\n",
       "      <th>4</th>\n",
       "      <td>occ_husb_2</td>\n",
       "      <td>5.520282</td>\n",
       "    </tr>\n",
       "    <tr>\n",
       "      <th>5</th>\n",
       "      <td>occ_husb_3</td>\n",
       "      <td>2.966434</td>\n",
       "    </tr>\n",
       "    <tr>\n",
       "      <th>6</th>\n",
       "      <td>occ_husb_4</td>\n",
       "      <td>6.875922</td>\n",
       "    </tr>\n",
       "    <tr>\n",
       "      <th>7</th>\n",
       "      <td>occ_husb_5</td>\n",
       "      <td>6.510032</td>\n",
       "    </tr>\n",
       "    <tr>\n",
       "      <th>8</th>\n",
       "      <td>occ_husb_6</td>\n",
       "      <td>3.162562</td>\n",
       "    </tr>\n",
       "    <tr>\n",
       "      <th>9</th>\n",
       "      <td>rate_marriage</td>\n",
       "      <td>1.038271</td>\n",
       "    </tr>\n",
       "    <tr>\n",
       "      <th>10</th>\n",
       "      <td>yrs_married</td>\n",
       "      <td>2.558514</td>\n",
       "    </tr>\n",
       "    <tr>\n",
       "      <th>11</th>\n",
       "      <td>children</td>\n",
       "      <td>2.580871</td>\n",
       "    </tr>\n",
       "    <tr>\n",
       "      <th>12</th>\n",
       "      <td>religious</td>\n",
       "      <td>1.036436</td>\n",
       "    </tr>\n",
       "    <tr>\n",
       "      <th>13</th>\n",
       "      <td>educ</td>\n",
       "      <td>1.559722</td>\n",
       "    </tr>\n",
       "  </tbody>\n",
       "</table>\n",
       "</div>"
      ],
      "text/plain": [
       "         Features       VIF\n",
       "0           occ_2  1.177502\n",
       "1           occ_4  1.580247\n",
       "2           occ_5  1.150833\n",
       "3           occ_6  1.166276\n",
       "4      occ_husb_2  5.520282\n",
       "5      occ_husb_3  2.966434\n",
       "6      occ_husb_4  6.875922\n",
       "7      occ_husb_5  6.510032\n",
       "8      occ_husb_6  3.162562\n",
       "9   rate_marriage  1.038271\n",
       "10    yrs_married  2.558514\n",
       "11       children  2.580871\n",
       "12      religious  1.036436\n",
       "13           educ  1.559722"
      ]
     },
     "execution_count": 31,
     "metadata": {},
     "output_type": "execute_result"
    }
   ],
   "source": [
    "X_scaled3 = np.delete(X_scaled1, 10, 1)\n",
    "\n",
    "# we create a new data frame which will include all the VIFs\n",
    "vif = pd.DataFrame()\n",
    "\n",
    "# Include names of features so it is easier to explore the result\n",
    "vif[\"Features\"] = np.delete(X.columns, [0, 2, 12], 0)\n",
    "\n",
    "# here we make use of the variance_inflation_factor, which will basically output the respective VIFs \n",
    "vif[\"VIF\"] = [variance_inflation_factor(X_scaled3, i) for i in range(X_scaled3.shape[1])]\n",
    "vif"
   ]
  },
  {
   "cell_type": "code",
   "execution_count": 32,
   "id": "147d0efd",
   "metadata": {
    "scrolled": false
   },
   "outputs": [],
   "source": [
    "# Add the intercept column to the scaled data\n",
    "df_scaled = pd.DataFrame(X_scaled3)\n",
    "df_scaled = pd.concat([X['Intercept'], df_scaled], axis=1)"
   ]
  },
  {
   "cell_type": "code",
   "execution_count": 33,
   "id": "a2879011",
   "metadata": {},
   "outputs": [
    {
     "name": "stdout",
     "output_type": "stream",
     "text": [
      "(5092, 15)\n",
      "(5092,)\n",
      "(1274, 15)\n",
      "(1274,)\n",
      "Train set accuracy score:  0.720738413197172\n",
      "Test set accuracy score : 0.7394034536891679\n"
     ]
    }
   ],
   "source": [
    "# Splitting the data into train and test set, fitting the classification model and doing prediction\n",
    "x_train, x_test, y_train, y_test = train_test_split(df_scaled, y, test_size=0.2, random_state=1)\n",
    "print(x_train.shape)\n",
    "print(y_train.shape)\n",
    "print(x_test.shape)\n",
    "print(y_test.shape)\n",
    "clf = LogisticRegression()\n",
    "clf.fit(x_train, y_train)\n",
    "y_test_predicted = clf.predict(x_test)\n",
    "y_train_predicted = clf.predict(x_train)\n",
    "pred_probs = clf.predict_proba(x_test)\n",
    "print(\"Train set accuracy score: \", metrics.accuracy_score(y_train, y_train_predicted))\n",
    "print(\"Test set accuracy score :\",  metrics.accuracy_score(y_test, y_test_predicted))"
   ]
  },
  {
   "cell_type": "code",
   "execution_count": 34,
   "id": "e16747e4",
   "metadata": {},
   "outputs": [
    {
     "data": {
      "image/png": "[encoded data removed]",
      "text/plain": [
       "<Figure size 432x288 with 2 Axes>"
      ]
     },
     "metadata": {
      "needs_background": "light"
     },
     "output_type": "display_data"
    }
   ],
   "source": [
    "metrics.plot_confusion_matrix(clf, x_test, y_test)\n",
    "plt.xlabel(\"Predicted label\",fontsize=15)\n",
    "plt.ylabel(\"True label\",fontsize=15)\n",
    "plt.show()"
   ]
  },
  {
   "cell_type": "markdown",
   "id": "9f15a08b",
   "metadata": {},
   "source": [
    "#### Accuracy score and confusion matrix shows that Model without the oct_3 and age feature is better than the Model without the oct_3 and yrs_married feature."
   ]
  },
  {
   "cell_type": "code",
   "execution_count": 35,
   "id": "7789ab86",
   "metadata": {
    "scrolled": false
   },
   "outputs": [
    {
     "name": "stdout",
     "output_type": "stream",
     "text": [
      "              precision    recall  f1-score   support\n",
      "\n",
      "         0.0       0.76      0.90      0.83       872\n",
      "         1.0       0.64      0.39      0.49       402\n",
      "\n",
      "    accuracy                           0.74      1274\n",
      "   macro avg       0.70      0.65      0.66      1274\n",
      "weighted avg       0.72      0.74      0.72      1274\n",
      "\n"
     ]
    }
   ],
   "source": [
    "print(metrics.classification_report(y_test, y_test_predicted))"
   ]
  },
  {
   "cell_type": "markdown",
   "id": "17ef988f",
   "metadata": {},
   "source": [
    "#### Accuracy, Precision, Recall, F1-score values are similar to our previous model having all the features."
   ]
  },
  {
   "cell_type": "markdown",
   "id": "c5f1fc02",
   "metadata": {},
   "source": [
    "#### Coefficients of the features"
   ]
  },
  {
   "cell_type": "code",
   "execution_count": 36,
   "id": "c00d8496",
   "metadata": {},
   "outputs": [
    {
     "data": {
      "text/html": [
       "<div>\n",
       "<style scoped>\n",
       "    .dataframe tbody tr th:only-of-type {\n",
       "        vertical-align: middle;\n",
       "    }\n",
       "\n",
       "    .dataframe tbody tr th {\n",
       "        vertical-align: top;\n",
       "    }\n",
       "\n",
       "    .dataframe thead th {\n",
       "        text-align: right;\n",
       "    }\n",
       "</style>\n",
       "<table border=\"1\" class=\"dataframe\">\n",
       "  <thead>\n",
       "    <tr style=\"text-align: right;\">\n",
       "      <th></th>\n",
       "      <th>Features</th>\n",
       "      <th>Coefficients</th>\n",
       "    </tr>\n",
       "  </thead>\n",
       "  <tbody>\n",
       "    <tr>\n",
       "      <th>0</th>\n",
       "      <td>Intercept</td>\n",
       "      <td>0.000506</td>\n",
       "    </tr>\n",
       "    <tr>\n",
       "      <th>1</th>\n",
       "      <td>occ_2</td>\n",
       "      <td>-0.115336</td>\n",
       "    </tr>\n",
       "    <tr>\n",
       "      <th>2</th>\n",
       "      <td>occ_4</td>\n",
       "      <td>-0.073255</td>\n",
       "    </tr>\n",
       "    <tr>\n",
       "      <th>3</th>\n",
       "      <td>occ_5</td>\n",
       "      <td>0.125663</td>\n",
       "    </tr>\n",
       "    <tr>\n",
       "      <th>4</th>\n",
       "      <td>occ_6</td>\n",
       "      <td>0.057352</td>\n",
       "    </tr>\n",
       "    <tr>\n",
       "      <th>5</th>\n",
       "      <td>occ_husb_2</td>\n",
       "      <td>-0.009786</td>\n",
       "    </tr>\n",
       "    <tr>\n",
       "      <th>6</th>\n",
       "      <td>occ_husb_3</td>\n",
       "      <td>0.029490</td>\n",
       "    </tr>\n",
       "    <tr>\n",
       "      <th>7</th>\n",
       "      <td>occ_husb_4</td>\n",
       "      <td>0.005033</td>\n",
       "    </tr>\n",
       "    <tr>\n",
       "      <th>8</th>\n",
       "      <td>occ_husb_5</td>\n",
       "      <td>-0.003734</td>\n",
       "    </tr>\n",
       "    <tr>\n",
       "      <th>9</th>\n",
       "      <td>occ_husb_6</td>\n",
       "      <td>0.005110</td>\n",
       "    </tr>\n",
       "    <tr>\n",
       "      <th>10</th>\n",
       "      <td>rate_marriage</td>\n",
       "      <td>-0.672763</td>\n",
       "    </tr>\n",
       "    <tr>\n",
       "      <th>11</th>\n",
       "      <td>yrs_married</td>\n",
       "      <td>0.412972</td>\n",
       "    </tr>\n",
       "    <tr>\n",
       "      <th>12</th>\n",
       "      <td>children</td>\n",
       "      <td>0.010827</td>\n",
       "    </tr>\n",
       "    <tr>\n",
       "      <th>13</th>\n",
       "      <td>religious</td>\n",
       "      <td>-0.310173</td>\n",
       "    </tr>\n",
       "    <tr>\n",
       "      <th>14</th>\n",
       "      <td>educ</td>\n",
       "      <td>-0.065099</td>\n",
       "    </tr>\n",
       "  </tbody>\n",
       "</table>\n",
       "</div>"
      ],
      "text/plain": [
       "         Features  Coefficients\n",
       "0       Intercept      0.000506\n",
       "1           occ_2     -0.115336\n",
       "2           occ_4     -0.073255\n",
       "3           occ_5      0.125663\n",
       "4           occ_6      0.057352\n",
       "5      occ_husb_2     -0.009786\n",
       "6      occ_husb_3      0.029490\n",
       "7      occ_husb_4      0.005033\n",
       "8      occ_husb_5     -0.003734\n",
       "9      occ_husb_6      0.005110\n",
       "10  rate_marriage     -0.672763\n",
       "11    yrs_married      0.412972\n",
       "12       children      0.010827\n",
       "13      religious     -0.310173\n",
       "14           educ     -0.065099"
      ]
     },
     "execution_count": 36,
     "metadata": {},
     "output_type": "execute_result"
    }
   ],
   "source": [
    "df_coef=pd.DataFrame()\n",
    "df_coef['Features'] = np.delete(X.columns, [2, 12], 0)\n",
    "df_coef['Coefficients'] = np.transpose(clf.coef_)\n",
    "df_coef"
   ]
  },
  {
   "cell_type": "markdown",
   "id": "4cee3eed",
   "metadata": {},
   "source": [
    "### Model Evaluation Using Cross-Validation\n",
    "Now let's try 10-fold cross-validation, to see if the accuracy holds up more rigorously."
   ]
  },
  {
   "cell_type": "code",
   "execution_count": 37,
   "id": "55bbca36",
   "metadata": {
    "scrolled": false
   },
   "outputs": [
    {
     "data": {
      "text/plain": [
       "(array([0.72156863, 0.71372549, 0.72298625, 0.71709234, 0.74263261,\n",
       "        0.69155206, 0.70923379, 0.74066798, 0.7151277 , 0.71905697]),\n",
       " 0.7193643822951578)"
      ]
     },
     "execution_count": 37,
     "metadata": {},
     "output_type": "execute_result"
    }
   ],
   "source": [
    "# evaluate the model using 10-fold cross-validation\n",
    "scores = cross_val_score(LogisticRegression(), x_train, y_train, scoring='accuracy', cv=10)\n",
    "scores, scores.mean()"
   ]
  },
  {
   "cell_type": "markdown",
   "id": "3677013b",
   "metadata": {},
   "source": [
    "#### Looks good. Model still performing at 72% accuracy."
   ]
  },
  {
   "cell_type": "markdown",
   "id": "9cf09dcf",
   "metadata": {},
   "source": [
    "### ROC Curve"
   ]
  },
  {
   "cell_type": "code",
   "execution_count": 38,
   "id": "8edeac4c",
   "metadata": {},
   "outputs": [
    {
     "data": {
      "text/plain": [
       "0.7511510680542243"
      ]
     },
     "execution_count": 38,
     "metadata": {},
     "output_type": "execute_result"
    }
   ],
   "source": [
    "# Area Under Curve\n",
    "auc = metrics.roc_auc_score(y_test, pred_probs[:, 1])\n",
    "auc"
   ]
  },
  {
   "cell_type": "code",
   "execution_count": 39,
   "id": "153c43e4",
   "metadata": {
    "scrolled": false
   },
   "outputs": [
    {
     "data": {
      "text/plain": [
       "[<matplotlib.lines.Line2D at 0x1aa808934c0>]"
      ]
     },
     "execution_count": 39,
     "metadata": {},
     "output_type": "execute_result"
    },
    {
     "data": {
      "image/png": "[encoded data removed]",
      "text/plain": [
       "<Figure size 432x288 with 1 Axes>"
      ]
     },
     "metadata": {
      "needs_background": "light"
     },
     "output_type": "display_data"
    }
   ],
   "source": [
    "metrics.plot_roc_curve(clf, x_test, y_test)\n",
    "plt.plot([0, 1], [0, 1], color='green', linestyle='--')"
   ]
  },
  {
   "cell_type": "code",
   "execution_count": null,
   "id": "69d33edc",
   "metadata": {},
   "outputs": [],
   "source": []
  }
 ],
 "metadata": {
  "kernelspec": {
   "display_name": "Python 3",
   "language": "python",
   "name": "python3"
  },
  "language_info": {
   "codemirror_mode": {
    "name": "ipython",
    "version": 3
   },
   "file_extension": ".py",
   "mimetype": "text/x-python",
   "name": "python",
   "nbconvert_exporter": "python",
   "pygments_lexer": "ipython3",
   "version": "3.8.8"
  }
 },
 "nbformat": 4,
 "nbformat_minor": 5
}
