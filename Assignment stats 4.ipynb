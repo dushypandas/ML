{
 "cells": [
  {
   "attachments": {
    "image.png": {
     "image/png": "[encoded data removed]"
    }
   },
   "cell_type": "markdown",
   "metadata": {},
   "source": [
    "## Problem Statement 1:\n",
    "Is gender independent of education level? A random sample of 395 people were surveyed and each person was asked to report the highest education level they obtained. The data that resulted from the survey is summarized in the following table:\n",
    "![image.png](attachment:image.png)\n",
    "Question: Are gender and education level dependent at 5% level of significance? In other words, given the data collected above, is there a relationship between the gender of an individual and the level of education that they have obtained?"
   ]
  },
  {
   "cell_type": "code",
   "execution_count": 1,
   "metadata": {},
   "outputs": [
    {
     "name": "stdout",
     "output_type": "stream",
     "text": [
      "T-statistic = 8.0061, P-value = 0.0459\n",
      "P-value < 0.05. Reject the Null Hypothesis: There is a relationship between the gender of an individual and the level of education that they have obtained\n"
     ]
    }
   ],
   "source": [
    "# Chi-square test of independence\n",
    "# Null Hypothesis H0: The gender of an individual and the level of education that they have obtained are Independent\n",
    "# Alternative Hypothesis H1: The gender of an individual and the level of education that they have obtained are NOT Independent\n",
    "\n",
    "import numpy as np\n",
    "from scipy.stats import chi2_contingency\n",
    "\n",
    "observed_values = np.array([[60, 54, 46, 41], [40, 44, 53, 57]])\n",
    "\n",
    "t_stat, p_value, df, expected_values = chi2_contingency(observed_values)\n",
    "print('T-statistic = %0.4f, P-value = %0.4f'%(t_stat, p_value))\n",
    "\n",
    "# at 5% level of significance reject the null hypothesis if P-value less than 0.05\n",
    "if p_value > 0.05:\n",
    "    print('P-value > 0.05. Fail to reject the Null Hypothesis: The gender of an individual and the level of education that they have obtained are Independent')\n",
    "else:\n",
    "    print('P-value < 0.05. Reject the Null Hypothesis: There is a relationship between the gender of an individual and the level of education that they have obtained')"
   ]
  },
  {
   "cell_type": "markdown",
   "metadata": {},
   "source": [
    "## Problem Statement 2:\n",
    "Using the following data, perform a oneway analysis of variance using α=.05. Write up the results in APA format.\n",
    "\n",
    "[Group1: 51, 45, 33, 45, 67]\n",
    "\n",
    "[Group2: 23, 43, 23, 43, 45]\n",
    "\n",
    "[Group3: 56, 76, 74, 87, 56]"
   ]
  },
  {
   "cell_type": "code",
   "execution_count": 2,
   "metadata": {},
   "outputs": [
    {
     "name": "stdout",
     "output_type": "stream",
     "text": [
      "               sum_sq    df      mean_sq         F   PR(>F)   eta_sq  omega_sq\n",
      "Groups    3022.933333   2.0  1511.466667  9.747206  0.00306  0.61898  0.538382\n",
      "Residual  1860.800000  12.0   155.066667       NaN      NaN      NaN       NaN\n",
      "\n",
      "PR(>F) < 0.05. There is a statistically significant difference between the groups.\n"
     ]
    }
   ],
   "source": [
    "import pandas as pd\n",
    "import statsmodels.api as sm\n",
    "from statsmodels.formula.api import ols\n",
    "\n",
    "data = pd.DataFrame({'Groups':['Group'+str(i) for i in range(1,4) for j in range(1,6)],\n",
    "                     'Values':[51, 45, 33, 45, 67, 23, 43, 23, 43, 45, 56, 76, 74, 87, 56]})\n",
    "\n",
    "mod = ols('Values ~ Groups', data=data).fit()\n",
    "                \n",
    "anova_table = sm.stats.anova_lm(mod, typ=2)\n",
    "\n",
    "# Adding column for mean squares\n",
    "anova_table['mean_sq'] = anova_table['sum_sq']/anova_table['df']\n",
    "\n",
    "# Adding eta-squared\n",
    "# eta_sqrd = SSbetween/SStotal\n",
    "# Eta-Squared has the following interpretation:\n",
    "# Out of the total variation in Y, eta-squared is the proportion that can be attributed to a specific X.\n",
    "anova_table['eta_sq'] = anova_table[:-1]['sum_sq']/sum(anova_table['sum_sq'])\n",
    "\n",
    "#Adding omega-squared\n",
    "# omega_sqrd = (SSbetween - (DFbetween * MSwithin))/(SStotal + MSwithin)\n",
    "# Omega-squared (ω2) is a measure of effect size, or the degree of association for a population. \n",
    "# It is an estimate of how much variance in the response variables are accounted for by the explanatory variables.\n",
    "anova_table['omega_sq'] = (anova_table[:-1]['sum_sq'] -\n",
    "                           anova_table[:-1]['df']*anova_table['mean_sq'][-1])/(sum(anova_table['sum_sq']) +\n",
    "                                                                               anova_table['mean_sq'][-1])\n",
    "\n",
    "cols = ['sum_sq', 'df', 'mean_sq', 'F', 'PR(>F)', 'eta_sq', 'omega_sq']\n",
    "anova_table = anova_table[cols]\n",
    "print(anova_table)\n",
    "\n",
    "# Level of significance is α=0.05\n",
    "if anova_table['PR(>F)'][0]>0.05:\n",
    "    print('\\nPR(>F) > 0.05. There is no statistically significant difference between the groups.')\n",
    "else:\n",
    "    print('\\nPR(>F) < 0.05. There is a statistically significant difference between the groups.')"
   ]
  },
  {
   "cell_type": "markdown",
   "metadata": {},
   "source": [
    "## Conclusion (APA Format)\n",
    "For significance level α=.05, there is a statistically significant difference between the groups at p<.05 [F(2,12) = 9.75, p = .003, with an overall effect ω2 = .54]."
   ]
  },
  {
   "cell_type": "markdown",
   "metadata": {},
   "source": [
    "## Problem Statement 3:\n",
    "Calculate F Test for given 10, 20, 30, 40, 50 and 5,10,15, 20, 25.\n",
    "\n",
    "For 10, 20, 30, 40, 50:"
   ]
  },
  {
   "cell_type": "code",
   "execution_count": 3,
   "metadata": {},
   "outputs": [
    {
     "name": "stdout",
     "output_type": "stream",
     "text": [
      "The F test statistic is 4.000 and the corresponding p-value is 0.104.\n",
      "P-value > 0.05 . Fail to reject the Null Hypothesis. Population variances are equal.\n"
     ]
    }
   ],
   "source": [
    "# Null Hypothesis H0: var1 = var2 (the population variances are equal)\n",
    "# Alternative Hypothesis H1: var1 ≠ var2 (the population variances are not equal)\n",
    "# Significance Level, alpha = 0.05\n",
    "\n",
    "from scipy.stats import f\n",
    "\n",
    "x = np.array([10, 20, 30, 40, 50])\n",
    "y = np.array([5, 10, 15, 20, 25])\n",
    "\n",
    "f_stat = np.var(x, ddof=1)/np.var(y, ddof=1) # calculate F test statistic \n",
    "\n",
    "dfn = x.size - 1 # degrees of freedom of numerator \n",
    "dfd = y.size - 1 # degrees of freedom of denominator \n",
    "\n",
    "# find p-value of F test statistic \n",
    "p_value = f.sf(f_stat, dfn, dfd)\n",
    "\n",
    "print('The F test statistic is %0.3f and the corresponding p-value is %0.3f.'%(f_stat, p_value))\n",
    "\n",
    "# Reject the Null Hypothesis if P-Value < 0.05\n",
    "if p_value > 0.05:\n",
    "    print('P-value > 0.05 . Fail to reject the Null Hypothesis. Population variances are equal.')\n",
    "else:\n",
    "    print('P-value < 0.05 . Reject the Null Hypothesis. Population variances are not equal.')"
   ]
  },
  {
   "cell_type": "code",
   "execution_count": null,
   "metadata": {},
   "outputs": [],
   "source": []
  }
 ],
 "metadata": {
  "kernelspec": {
   "display_name": "Python 3",
   "language": "python",
   "name": "python3"
  },
  "language_info": {
   "codemirror_mode": {
    "name": "ipython",
    "version": 3
   },
   "file_extension": ".py",
   "mimetype": "text/x-python",
   "name": "python",
   "nbconvert_exporter": "python",
   "pygments_lexer": "ipython3",
   "version": "3.8.3"
  }
 },
 "nbformat": 4,
 "nbformat_minor": 4
}
