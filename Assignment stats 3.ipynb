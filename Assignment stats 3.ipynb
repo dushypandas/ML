{
 "cells": [
  {
   "cell_type": "markdown",
   "metadata": {},
   "source": [
    "## Problem Statement 1:\n",
    "Blood glucose levels for obese patients have a mean of 100 with a standard deviation of 15. A researcher thinks that a diet high in raw cornstarch will have a positive effect on blood glucose levels. A sample of 36 patients who have tried the raw cornstarch diet have a mean glucose level of 108. Test the hypothesis that the raw cornstarch had an effect or not."
   ]
  },
  {
   "cell_type": "code",
   "execution_count": 1,
   "metadata": {},
   "outputs": [
    {
     "name": "stdout",
     "output_type": "stream",
     "text": [
      "P-value = 0.0007\n",
      "P-value < 0.025, Reject the null hypothesis - Conclusion: Raw cornstarch had effect on blood glucose levels\n"
     ]
    }
   ],
   "source": [
    "# One sample z-test\n",
    "# Null Hypothesis H0 : x = mu (Sample mean = population mean) (Raw cornstarch had no effect on blood glucose levels)\n",
    "# Alternative Hypothesis H1 : x != mu (sample mean != population mean) (Raw cornstarch had effect on blood glucose levels)\n",
    "# Two-tailed test\n",
    "\n",
    "import numpy as np\n",
    "from scipy.stats import norm\n",
    "\n",
    "mu = 100 # population mean\n",
    "sd = 15 # population standard deviation\n",
    "n = 36 # sample size\n",
    "x = 108 # sample mean\n",
    "\n",
    "# As per central limit theorem the distribution of sample means follows a normal disribution X ~ N(mu, sd/sqrt(n))\n",
    "# z-score of x\n",
    "z_score = (x - mu)/(sd/np.sqrt(n))\n",
    "\n",
    "# alpha = 5%\n",
    "alpha = 0.05\n",
    "\n",
    "# P-value\n",
    "p_value = norm.sf(z_score)\n",
    "print('P-value = %0.4f' %(p_value))\n",
    "\n",
    "# Two-tailed test. Reject H0 if P-value < alpha/2 (0.025)\n",
    "if p_value > alpha/2:\n",
    "    print(\"P-value > 0.025, Fail to reject the null hypothesis - Conclusion: Raw cornstarch had no effect on blood glucose levels\")\n",
    "else:\n",
    "    print(\"P-value < 0.025, Reject the null hypothesis - Conclusion: Raw cornstarch had effect on blood glucose levels\")\n"
   ]
  },
  {
   "cell_type": "markdown",
   "metadata": {},
   "source": [
    "## Problem Statement 2:\n",
    "In one state, 52% of the voters are Republicans, and 48% are Democrats. In a second state, 47% of the voters are Republicans, and 53% are Democrats. Suppose a simple random sample of 100 voters are surveyed from each state.\n",
    "\n",
    "What is the probability that the survey will show a greater percentage of Republican voters in the second state than in the first state?"
   ]
  },
  {
   "cell_type": "code",
   "execution_count": 2,
   "metadata": {},
   "outputs": [
    {
     "name": "stdout",
     "output_type": "stream",
     "text": [
      "P(p1 < p2) = 0.2395\n"
     ]
    }
   ],
   "source": [
    "# P1 = 0.52 : the proportion of Republican voters in the first state\n",
    "# P2 = 0.47 : the proportion of Republican voters in the second state\n",
    "# Let p1 and p2 be the proportion of Republican voters in the samples from the first state and the second state respectively.\n",
    "# Sample size n1 = n2 = n = 100\n",
    "n = 100\n",
    "\n",
    "# We need to find the probability that p1 is less than p2 . P(p1 < p2) = P((p1 - p2) < 0)\n",
    "\n",
    "# Mean of the difference in sample proportions\n",
    "# mu = E(p1 - p2) = P1 - P2 = 0.52 - 0.47 = 0.05\n",
    "mu = 0.05\n",
    "\n",
    "# Standard deviation of the difference in sample proportions\n",
    "# sd = sqrt( P1(1 - P1) / n1  +  P2(1 - P2) / n2 ) = sqrt( (0.52)(0.48) / 100  +  (0.47)(0.53) / 100 )\n",
    "sd = np.sqrt( 0.52*0.48 / 100  +  0.47*0.53 / 100 )\n",
    "\n",
    "# z-score of (p1 - p2) = 0\n",
    "z_score = (0 - mu)/sd\n",
    "\n",
    "# P((p1 - p2) < 0) = P(Z < z_score)\n",
    "prob = norm.cdf(z_score)\n",
    "print('P(p1 < p2) = %0.4f' %(prob))"
   ]
  },
  {
   "cell_type": "markdown",
   "metadata": {},
   "source": [
    "## Problem Statement 3:\n",
    "You take the SAT and score 1100. The mean score for the SAT is 1026 and the standard deviation is 209. How well did you score on the test compared to the average test taker?"
   ]
  },
  {
   "cell_type": "code",
   "execution_count": 3,
   "metadata": {},
   "outputs": [
    {
     "name": "stdout",
     "output_type": "stream",
     "text": [
      "Individual score on the test as compared to the average test taker : 0.3541\n"
     ]
    }
   ],
   "source": [
    "mu = 1026 # population mean\n",
    "sd = 209 # population standard deviation\n",
    "x = 1100 # Individual Test score\n",
    "\n",
    "# z-score of x\n",
    "z_score = (x - mu)/sd\n",
    "print('Individual score on the test as compared to the average test taker : %0.4f'%(z_score))\n"
   ]
  }
 ],
 "metadata": {
  "kernelspec": {
   "display_name": "Python 3",
   "language": "python",
   "name": "python3"
  },
  "language_info": {
   "codemirror_mode": {
    "name": "ipython",
    "version": 3
   },
   "file_extension": ".py",
   "mimetype": "text/x-python",
   "name": "python",
   "nbconvert_exporter": "python",
   "pygments_lexer": "ipython3",
   "version": "3.8.3"
  }
 },
 "nbformat": 4,
 "nbformat_minor": 4
}
