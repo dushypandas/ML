{
 "cells": [
  {
   "cell_type": "markdown",
   "metadata": {},
   "source": [
    "## Problem Statement 1:\n",
    "In each of the following situations, state whether it is a correctly stated hypothesis testing problem and why?\n",
    "1. 𝐻0: 𝜇 = 25, 𝐻1: 𝜇 ≠ 25\n",
    "2. 𝐻0: 𝜎 > 10, 𝐻1: 𝜎 = 10\n",
    "3. 𝐻0: 𝑥 = 50, 𝐻1: 𝑥 ≠ 50\n",
    "4. 𝐻0: 𝑝 = 0.1, 𝐻1: 𝑝 = 0.5\n",
    "5. 𝐻0: 𝑠 = 30, 𝐻1: 𝑠 > 30"
   ]
  },
  {
   "cell_type": "markdown",
   "metadata": {},
   "source": [
    "# Answer:\n",
    "Hypothesis testing deals with testing whether the sample mean or sample proportion is equal to the true population mean or population proportion respectively. Null hypothesis is that of equality and alternative hypothesis is that of inequality. It does not compare the sample standard deviation or population standard deviation.  \n",
    "1. 𝐻0: 𝜇 = 25, 𝐻1: 𝜇 ≠ 25 . This is CORRECTLY stated problem.\n",
    "2. 𝐻0: 𝜎 > 10, 𝐻1: 𝜎 = 10 . This is NOT CORRECTLY stated problem.\n",
    "3. 𝐻0: 𝑥 = 50, 𝐻1: 𝑥 ≠ 50 . This is CORRECTLY stated problem.\n",
    "4. 𝐻0: 𝑝 = 0.1, 𝐻1: 𝑝 = 0.5 . This is NOT CORRECTLY stated problem. Alternative hypothesis not correct.\n",
    "5. 𝐻0: 𝑠 = 30, 𝐻1: 𝑠 > 30 .  This is NOT CORRECTLY stated problem."
   ]
  },
  {
   "cell_type": "markdown",
   "metadata": {},
   "source": [
    "## Problem Statement 2:\n",
    "The college bookstore tells prospective students that the average cost of its textbooks is Rs. 52 with a standard deviation of Rs. 4.50. A group of smart statistics students thinks that the average cost is higher. To test the bookstore’s claim against their alternative, the students will select a random sample of size 100. Assume that the mean from their random sample is Rs. 52.80. Perform a hypothesis test at the 5% level of significance and state your decision."
   ]
  },
  {
   "cell_type": "code",
   "execution_count": 1,
   "metadata": {},
   "outputs": [
    {
     "name": "stdout",
     "output_type": "stream",
     "text": [
      "P-value is P(Z > z) = 0.0377\n",
      "P(Z > z) < 0.05, so we are rejecting the null hypothesis\n"
     ]
    }
   ],
   "source": [
    "# Polpulation mean is mu = 52 . Population sd is 𝜎 = 4.5\n",
    "# As per central limit theorem, Mean Cost of Textbook samples follow a normal distribution X ~ N(mu, 𝜎/sqrt(n))\n",
    "# Sample mean is x = 52.8 . Sample size n = 100\n",
    "# Null hypothesis H0 : mu = 52\n",
    "# Alternative hypothesis H1 : mu > 52 (Upper tail test)\n",
    "# alpha = 0.05\n",
    "\n",
    "import scipy.stats as stats\n",
    "\n",
    "#z-score  z = (x - mu)/(𝜎/sqrt(n)) = (52.8 - 52)/(4.5/sqrt(100)) = 0.8/0.45 = 1.7778\n",
    "z = 0.8/0.45\n",
    "\n",
    "# Upper-tail test : If p_value , P(Z > z) > 0.05 , accept the Null hypothesis.\n",
    "# Else if p_value , P(Z > z) < 0.05 , reject the Null hypothesis and accept the Alternative hypothesis.\n",
    "p_value = 1 - stats.norm.cdf(z)\n",
    "\n",
    "print('P-value is P(Z > z) =', round(p_value, 4))\n",
    "\n",
    "if p_value < 0.05:    # alpha value is 0.05 or 5%\n",
    "    print(\"P(Z > z) < 0.05, so we are rejecting the null hypothesis\")\n",
    "else:\n",
    "    print(\"P(Z > z) > 0.05, so we are accepting the null hypothesis\")"
   ]
  },
  {
   "cell_type": "markdown",
   "metadata": {},
   "source": [
    "## Problem Statement 3:\n",
    "A certain chemical pollutant in the Genesee River has been constant for several years with mean μ = 34 ppm (parts per million) and standard deviation σ = 8 ppm. A group of factory representatives whose companies discharge liquids into the river is\n",
    "now claiming that they have lowered the average with improved filtration devices. A group of environmentalists will test to see if this is true at the 1% level of significance. Assume that their sample of size 50 gives a mean of 32.5 ppm.\n",
    "Perform a hypothesis test at the 1% level of significance and state your decision."
   ]
  },
  {
   "cell_type": "code",
   "execution_count": 2,
   "metadata": {},
   "outputs": [
    {
     "name": "stdout",
     "output_type": "stream",
     "text": [
      "P-value is P(Z < z) = 0.0924\n",
      "P(Z < z) > 0.01, so we are accepting the null hypothesis\n"
     ]
    }
   ],
   "source": [
    "# Polpulation mean is mu = 34 . Population sd is 𝜎 = 8\n",
    "# Sample mean is x = 32.5 . Sample size n = 50\n",
    "# As per central limit theorem, Mean of samples follow a normal distribution X ~ N(mu, 𝜎/sqrt(n))\n",
    "# Null hypothesis H0 : mu = 34\n",
    "# Alternative hypothesis H1 : mu < 34 (Lower tail test)\n",
    "# alpha = 0.01\n",
    "\n",
    "import numpy as np\n",
    "\n",
    "#z-score  z = (x - mu)/(𝜎/sqrt(n)) = (32.5 - 34)/(8/sqrt(50))\n",
    "z = -1.5/(8/np.sqrt(50))\n",
    "\n",
    "# Lower-tail test : If p_value , P(Z < z) > 0.01 , accept the Null hypothesis.\n",
    "# Else if p_value , P(Z < z) < 0.01 , reject the Null hypothesis and accept the Alternative hypothesis.\n",
    "p_value = stats.norm.cdf(z)\n",
    "\n",
    "print('P-value is P(Z < z) =', round(p_value, 4))\n",
    "\n",
    "if p_value < 0.01:    # alpha value is 0.01 or 1%\n",
    "    print(\"P(Z < z) < 0.01, so we are rejecting the null hypothesis\")\n",
    "else:\n",
    "    print(\"P(Z < z) > 0.01, so we are accepting the null hypothesis\")"
   ]
  },
  {
   "cell_type": "markdown",
   "metadata": {},
   "source": [
    "## Problem Statement 4:\n",
    "Based on population figures and other general information on the U.S. population, suppose it has been estimated that, on average, a family of four in the U.S. spends about $1135 annually on dental expenditures. Suppose further that a regional dental association wants to test to determine if this figure is accurate for their area of country. To test this, 22 families of 4 are randomly selected from the population in that area of the country and a log is kept of the family’s dental expenditure for one year. The resulting data are given below. Assuming, that dental expenditure is normally distributed in the population, use the data and an alpha of 0.5 to test the dental association’s hypothesis.\n",
    "\n",
    "1008, 812, 1117, 1323, 1308, 1415, 831, 1021, 1287, 851, 930, 730, 699, 872, 913, 944, 954, 987, 1695, 995, 1003, 994"
   ]
  },
  {
   "cell_type": "code",
   "execution_count": 3,
   "metadata": {},
   "outputs": [
    {
     "name": "stdout",
     "output_type": "stream",
     "text": [
      "Sample mean: x = 1031.3181818181818\n"
     ]
    }
   ],
   "source": [
    "sample = [1008, 812, 1117, 1323, 1308, 1415, 831, 1021, 1287, 851, 930, 730, 699, 872, 913, 944, 954, 987, 1695, 995, 1003, 994]\n",
    "x = np.mean(sample)\n",
    "print('Sample mean: x =', x)"
   ]
  },
  {
   "cell_type": "code",
   "execution_count": 4,
   "metadata": {
    "scrolled": true
   },
   "outputs": [
    {
     "name": "stdout",
     "output_type": "stream",
     "text": [
      "P-value is P(T < t) = 0.028\n",
      "P(T < t) < 0.05, so we are rejecting the null hypothesis\n"
     ]
    }
   ],
   "source": [
    "# Polpulation mean is mu = 1135 . Population sd is not known \n",
    "# Sample mean is x = 1031.3182. Sample size n = 22 \n",
    "# As the population sd is not known and sample size is small, Mean of samples follow a t-distribution T ~ t(n-1) \n",
    "# with degrees of freedom n-1\n",
    "# Null hypothesis H0 : mu = 1135 \n",
    "# Alternative hypothesis H1 : mu < 1135 (Lower tail test)\n",
    "# alpha = 0.05\n",
    "n = 22\n",
    "mu = 1135\n",
    "\n",
    "# Lower-tail test : If p_value , P(T < t) > 0.05 , accept the Null hypothesis.\n",
    "# Else if p_value , P(T < t) < 0.05 , reject the Null hypothesis and accept the Alternative hypothesis.\n",
    "tstat, p_value = stats.ttest_1samp(sample, 1135)\n",
    "\n",
    "# For lower tail test , we need to divide the output P-value by 2\n",
    "# Reject H0 if p_value/2 < alpha (0.05)\n",
    "print('P-value is P(T < t) =', round(p_value/2, 4))\n",
    "\n",
    "if p_value/2 < 0.05:    # alpha value is 0.05 or 5%\n",
    "    print(\"P(T < t) < 0.05, so we are rejecting the null hypothesis\")\n",
    "else:\n",
    "    print(\"P(T < t) > 0.05, so we are accepting the null hypothesis\")"
   ]
  },
  {
   "cell_type": "markdown",
   "metadata": {},
   "source": [
    "## Problem Statement 5:\n",
    "In a report prepared by the Economic Research Department of a major bank the Department manager maintains that the average annual family income on Metropolis is $ 48,432.\n",
    "\n",
    "What do you conclude about the validity of the report if a random sample of 400 families shows an average income of $48,574 with a standard deviation of 2000?"
   ]
  },
  {
   "cell_type": "code",
   "execution_count": 5,
   "metadata": {},
   "outputs": [
    {
     "name": "stdout",
     "output_type": "stream",
     "text": [
      "P-value is P(Z > z) = 0.0778\n",
      "P(Z > z) > 0.05, so we are accepting the null hypothesis\n"
     ]
    }
   ],
   "source": [
    "# Polpulation mean is mu = 48432 . Population sd is not known\n",
    "# Sample mean is x = 48574 . Sample size n = 400 . Sample sd is s = 2000\n",
    "# As per central limit theorem, Mean of samples follow a normal distribution X ~ N(mu, 𝜎/sqrt(n))\n",
    "# Null hypothesis H0 : mu = 48432\n",
    "# Alternative hypothesis H1 : mu > 48432 (Upper tail test)\n",
    "# alpha = 0.05\n",
    "\n",
    "import numpy as np\n",
    "\n",
    "#z-score  z = (x - mu)/(𝜎/sqrt(n)) = (48574 - 48432)/(2000/sqrt(400))\n",
    "z = 142/(2000/np.sqrt(400))\n",
    "\n",
    "# Upper-tail test : If p_value , P(Z > z) > 0.05 , accept the Null hypothesis.\n",
    "# Else if p_value , P(Z > z) < 0.05 , reject the Null hypothesis and accept the Alternative hypothesis.\n",
    "p_value = 1 - stats.norm.cdf(z)\n",
    "\n",
    "print('P-value is P(Z > z) =', round(p_value, 4))\n",
    "\n",
    "if p_value < 0.05:    # alpha value is 0.05 or 5%\n",
    "    print(\"P(Z > z) < 0.05, so we are rejecting the null hypothesis\")\n",
    "else:\n",
    "    print(\"P(Z > z) > 0.05, so we are accepting the null hypothesis\")"
   ]
  },
  {
   "cell_type": "markdown",
   "metadata": {},
   "source": [
    "## Problem Statement 6:\n",
    "Suppose that in past years the average price per square foot for warehouses in the United States has been 32.28. A national real estate investor wants to determine whether that figure has changed now. The investor hires a researcher who randomly samples 19 warehouses that are for sale across the United States and finds that the mean price per square foot is \n",
    "31.67, with a standard deviation of 1.29. Assume that the prices of warehouse footage are normally distributed in population. If the researcher uses a 5% level of significance, what statistical conclusion can be reached? What are the hypothesis?"
   ]
  },
  {
   "cell_type": "code",
   "execution_count": 6,
   "metadata": {},
   "outputs": [
    {
     "name": "stdout",
     "output_type": "stream",
     "text": [
      "P-value is P(T < t) = 0.027\n",
      "P(T < t) < 0.05, so we are rejecting the null hypothesis\n"
     ]
    }
   ],
   "source": [
    "# Polpulation mean is mu = 32.28 . Population sd is not known \n",
    "# Sample mean is x = 31.67. Sample size n = 19. Sample sd is s = 1.29\n",
    "# As the population sd is not known and sample size is small, Mean of samples follow a t-distribution T ~ t(n-1) \n",
    "# with degrees of freedom n-1\n",
    "# Null hypothesis H0 : mu = 32.28\n",
    "# Alternative hypothesis H1 : mu < 32.28 (Lower tail test)\n",
    "# alpha = 0.05\n",
    "n = 19\n",
    "mu = 32.28\n",
    "s = 1.29\n",
    "x = 31.67\n",
    "df = n - 1\n",
    "\n",
    "# t-statistic tstat = (x - mu)/(s/sqrt(n)) = (31.67 - 32.28)/(1.29/np.sqrt(19))\n",
    "tstat = -0.61/(s/np.sqrt(n))\n",
    "\n",
    "# Lower-tail test : If p_value , P(T < t) > 0.05 , accept the Null hypothesis.\n",
    "# Else if p_value , P(T < t) < 0.05 , reject the Null hypothesis and accept the Alternative hypothesis.\n",
    "p_value = stats.t.cdf(tstat, df)\n",
    "\n",
    "# Reject H0 if p_value < alpha (0.05)\n",
    "print('P-value is P(T < t) =', round(p_value, 4))\n",
    "\n",
    "if p_value < 0.05:    # alpha value is 0.05 or 5%\n",
    "    print(\"P(T < t) < 0.05, so we are rejecting the null hypothesis\")\n",
    "else:\n",
    "    print(\"P(T < t) > 0.05, so we are accepting the null hypothesis\")"
   ]
  },
  {
   "attachments": {
    "Untitled.png": {
     "image/png": "[encoded data removed]"
    }
   },
   "cell_type": "markdown",
   "metadata": {},
   "source": [
    "## Problem Statement 7:\n",
    "Fill in the blank spaces in the table and draw your conclusions from it.\n",
    "![Untitled.png](attachment:Untitled.png)"
   ]
  },
  {
   "cell_type": "code",
   "execution_count": 7,
   "metadata": {},
   "outputs": [
    {
     "name": "stdout",
     "output_type": "stream",
     "text": [
      "48.5 < mu < 51.5 : alpha = 0.0500 , at mu = 52 : beta = 0.1335\n",
      "48.5 < mu < 51.5 : at mu = 50.5 : beta = 0.8457\n",
      "48 < mu < 52: alpha = 0.0500 , at mu = 52 : beta = 0.3390\n",
      "48 < mu < 52 : at mu = 50.5 : beta = 0.8816\n",
      "48.81 < mu < 51.9: alpha = 0.0500 , at mu = 52 : beta = 0.3066\n",
      "48.81 < mu < 51.9 : at mu = 50.5 : beta = 0.9294\n",
      "48.42 < mu < 51.58: alpha = 0.0500 , at mu = 52 : beta = 0.1798\n",
      "48.42 < mu < 51.81 : at mu = 50.5 : beta = 0.8511\n"
     ]
    }
   ],
   "source": [
    "# 48.5 < mu < 51.5 , mu = (48.5 + 51.5)/2 = 50\n",
    "n = 10 # sample size\n",
    "alpha = 0.05\n",
    "mu = 50\n",
    "df = n - 1\n",
    "# From confidence interval we find standard error.\n",
    "# t_critical = (51.5 - mu)/(se) = 1.5/(se)\n",
    "# This gives, standard error, se = 1.5/t_critical\n",
    "t_critical = stats.t.isf(alpha/2, df)\n",
    "se = 1.5/t_critical\n",
    "\n",
    "# Calculation of beta at mu = 52\n",
    "# Null hypothesis: H0: mu = 52\n",
    "# Alternative hypothesis : H1: mu = 50. This is a left tailed test.\n",
    "# alpha = 0.05 and df = 9,\n",
    "# we will fail to reject the null (commit a Type II error) if we get a t-statistic greater than t-critical=stats.t.ppf(alpha, df)\n",
    "t_crit = stats.t.ppf(alpha, df)\n",
    "# This t-critical value corresponds to some x-critical value such that (x-critical - 52)/se = t_crit\n",
    "x_crit = 52 + t_crit*se\n",
    "\n",
    "# Now assuming alternative hypothesis H1 to be true (take mu = 50) we find P(X > x_crit). This is probability of Type II error.\n",
    "# beta = P(X > x_crit) = P(T > (x_crit - 50)/se) = stats.t.sf((x_crit - 50)/se, df)\n",
    "beta = stats.t.sf((x_crit - 50)/se, df)\n",
    "print('48.5 < mu < 51.5 : alpha = %0.4f , at mu = 52 : beta = %0.4f'%(alpha, beta))\n",
    "\n",
    "# Calculation of beta at mu = 50.5\n",
    "# Null hypothesis: H0: mu = 50.5\n",
    "# Alternative hypothesis : H1: mu = 50. This is a left tailed test.\n",
    "# For alpha = 0.05 and df = 9,\n",
    "# we will fail to reject the null (commit a Type II error) if we get a t-statistic greater than t-critical=stats.t.ppf(alpha, df)\n",
    "t_crit = stats.t.ppf(alpha, df)\n",
    "# This t-critical value corresponds to some x-critical value such that (x-critical - 50.5)/se = t_crit\n",
    "x_crit = 50.5 + t_crit*se\n",
    "\n",
    "# Now assuming alternative hypothesis H1 to be true (take mu = 50) we find P(X > x_crit). This is probability of Type II error.\n",
    "# beta = P(X > x_crit) = P(T > (x_crit - 50)/se) = stats.t.sf((x_crit - 50)/se, df)\n",
    "beta = stats.t.sf((x_crit - 50)/se, df)\n",
    "print('48.5 < mu < 51.5 : at mu = 50.5 : beta = %0.4f'%(beta))\n",
    "\n",
    "# 48 < mu < 52 , mu = (48 + 52)/2 = 50\n",
    "n = 10 # sample size\n",
    "alpha = 0.05\n",
    "mu = 50\n",
    "df = n - 1\n",
    "# From confidence interval we find standard error.\n",
    "# t_critical = (52 - mu)/(se) = 2/(se)\n",
    "# This gives, standard error, se = 2/t_critical\n",
    "t_critical = stats.t.isf(alpha/2, df)\n",
    "se = 2/t_critical\n",
    "\n",
    "# Calculation of beta at mu = 52\n",
    "# Null hypothesis: H0: mu = 52\n",
    "# Alternative hypothesis : H1: mu = 50. This is a left tailed test.\n",
    "# alpha = 0.05 and df = 9,\n",
    "# we will fail to reject the null (commit a Type II error) if we get a t-statistic greater than t-critical=stats.t.ppf(alpha, df)\n",
    "t_crit = stats.t.ppf(alpha, df)\n",
    "# This t-critical value corresponds to some x-critical value such that (x-critical - 52)/se = t_crit\n",
    "x_crit = 52 + t_crit*se\n",
    "\n",
    "# Now assuming alternative hypothesis H1 to be true (take mu = 50) we find P(X > x_crit). This is probability of Type II error.\n",
    "# beta = P(X > x_crit) = P(T > (x_crit - 50)/se) = stats.t.sf((x_crit - 50)/se, df)\n",
    "beta = stats.t.sf((x_crit - 50)/se, df)\n",
    "print('48 < mu < 52: alpha = %0.4f , at mu = 52 : beta = %0.4f'%(alpha, beta))\n",
    "\n",
    "# Calculation of beta at mu = 50.5\n",
    "# Null hypothesis: H0: mu = 50.5\n",
    "# Alternative hypothesis : H1: mu = 50. This is a left tailed test.\n",
    "# For alpha = 0.05 and df = 9,\n",
    "# we will fail to reject the null (commit a Type II error) if we get a t-statistic greater than t-critical=stats.t.ppf(alpha, df)\n",
    "t_crit = stats.t.ppf(alpha, df)\n",
    "# This t-critical value corresponds to some x-critical value such that (x-critical - 50.5)/se = t_crit\n",
    "x_crit = 50.5 + t_crit*se\n",
    "\n",
    "# Now assuming alternative hypothesis H1 to be true (take mu = 50) we find P(X > x_crit). This is probability of Type II error.\n",
    "# beta = P(X > x_crit) = P(T > (x_crit - 50)/se) = stats.t.sf((x_crit - 50)/se, df)\n",
    "beta = stats.t.sf((x_crit - 50)/se, df)\n",
    "print('48 < mu < 52 : at mu = 50.5 : beta = %0.4f'%(beta))\n",
    "\n",
    "# 48.81 < mu < 51.9 , mu = (48.81 + 51.9)/2 = 50.355\n",
    "n = 16 # sample size\n",
    "alpha = 0.05\n",
    "mu = 50.355\n",
    "df = n -1\n",
    "# From confidence interval we find standard error.\n",
    "# t_critical = (51.9 - 50.355)/(se) = 1.545/(se)\n",
    "# This gives, standard error, se = 1.545/t_critical\n",
    "t_critical = stats.t.isf(alpha/2, df)\n",
    "se = 1.545/t_critical\n",
    "\n",
    "# Calculation of beta at mu = 52\n",
    "# Null hypothesis: H0: mu = 52\n",
    "# Alternative hypothesis : H1: mu = 50.355. This is a left tailed test.\n",
    "# For alpha = 0.05 and df = 15,\n",
    "# we will fail to reject the null (commit a Type II error) if we get a t-statistic greater than t-critical=stats.t.ppf(alpha, df)\n",
    "t_crit = stats.t.ppf(alpha, df)\n",
    "# This t-critical value corresponds to some x-critical value such that (x-critical - 52)/se = t_crit\n",
    "x_crit = 52 + t_crit*se\n",
    "\n",
    "# Now assuming alternative hypothesis H1 to be true (take mu = 50.355) we find P(X > x_crit). This is probability of Type II error.\n",
    "# beta = P(X > x_crit) = P(T > (x_crit - 50.355)/se) = stats.t.sf((x_crit - 50.355)/se, df)\n",
    "beta = stats.t.sf((x_crit - 50.355)/se, df)\n",
    "print('48.81 < mu < 51.9: alpha = %0.4f , at mu = 52 : beta = %0.4f'%(alpha, beta))\n",
    "\n",
    "# Calculation of beta at mu = 50.5\n",
    "# Null hypothesis: H0: mu = 50.5\n",
    "# Alternative hypothesis : H1: mu = 50.355. This is a left tailed test.\n",
    "# For alpha = 0.05 and df = 15,\n",
    "# we will fail to reject the null (commit a Type II error) if we get a t-statistic greater than t-critical=stats.t.ppf(alpha, df)\n",
    "t_crit = stats.t.ppf(alpha, df)\n",
    "# This t-critical value corresponds to some x-critical value such that (x-critical - 50.5)/se = t_crit\n",
    "x_crit = 50.5 + t_crit*se\n",
    "\n",
    "# Now assuming alternative hypothesis H1 to be true (take mu = 50.355) we find P(X > x_crit). This is probability of Type II error.\n",
    "# beta = P(X > x_crit) = P(T > (x_crit - 50.355)/se) = stats.t.sf((x_crit - 50.355)/se, df)\n",
    "beta = stats.t.sf((x_crit - 50.355)/se, df)\n",
    "print('48.81 < mu < 51.9 : at mu = 50.5 : beta = %0.4f'%(beta))\n",
    "\n",
    "# 48.42 < mu < 51.58 , mu = (48.42 + 51.58)/2 = 50\n",
    "n = 16 # sample size\n",
    "alpha = 0.05\n",
    "mu = 50\n",
    "df = n -1\n",
    "# From confidence interval we find standard error.\n",
    "# t_critical = (51.58 - 50)/(se) = 1.58/(se)\n",
    "# This gives, standard error, se = 1.58/t_critical\n",
    "t_critical = stats.t.isf(alpha/2, df)\n",
    "se = 1.58/t_critical\n",
    "\n",
    "# Calculation of beta at mu = 52\n",
    "# Null hypothesis: H0: mu = 52\n",
    "# Alternative hypothesis : H1: mu = 50. This is a left tailed test.\n",
    "# For alpha = 0.05 and df = 15,\n",
    "# we will fail to reject the null (commit a Type II error) if we get a t-statistic greater than t-critical=stats.t.ppf(alpha, df)\n",
    "t_crit = stats.t.ppf(alpha, df)\n",
    "# This t-critical value corresponds to some x-critical value such that (x-critical - 52)/se = t_crit\n",
    "x_crit = 52 + t_crit*se\n",
    "\n",
    "# Now assuming alternative hypothesis H1 to be true (take mu = 50) we find P(X > x_crit). This is probability of Type II error.\n",
    "# beta = P(X > x_crit) = P(T > (x_crit - 50)/se) = stats.t.sf((x_crit - 50)/se, df)\n",
    "beta = stats.t.sf((x_crit - 50)/se, df)\n",
    "print('48.42 < mu < 51.58: alpha = %0.4f , at mu = 52 : beta = %0.4f'%(alpha, beta))\n",
    "\n",
    "# Calculation of beta at mu = 50.5\n",
    "# Null hypothesis: H0: mu = 50.5\n",
    "# Alternative hypothesis : H1: mu = 50. This is a left tailed test.\n",
    "# For alpha = 0.05 and df = 15,\n",
    "# we will fail to reject the null (commit a Type II error) if we get a t-statistic greater than t-critical=stats.t.ppf(alpha, df)\n",
    "t_crit = stats.t.ppf(alpha, df)\n",
    "# This t-critical value corresponds to some x-critical value such that (x-critical - 50.5)/se = t_crit\n",
    "x_crit = 50.5 + t_crit*se\n",
    "\n",
    "# Now assuming alternative hypothesis H1 to be true (take mu = 50.355) we find P(X > x_crit). This is probability of Type II error.\n",
    "# beta = P(X > x_crit) = P(T > (x_crit - 50)/se) = stats.t.sf((x_crit - 50)/se, df)\n",
    "beta = stats.t.sf((x_crit - 50)/se, df)\n",
    "print('48.42 < mu < 51.81 : at mu = 50.5 : beta = %0.4f'%(beta))"
   ]
  },
  {
   "attachments": {
    "image.png": {
     "image/png": "[encoded data removed]"
    }
   },
   "cell_type": "markdown",
   "metadata": {},
   "source": [
    "![image.png](attachment:image.png)"
   ]
  },
  {
   "cell_type": "markdown",
   "metadata": {},
   "source": [
    "## Problem Statement 8:\n",
    "Find the t-score for a sample size of 16 taken from a population with mean 10 when the sample mean is 12 and the sample standard deviation is 1.5."
   ]
  },
  {
   "cell_type": "code",
   "execution_count": 8,
   "metadata": {},
   "outputs": [
    {
     "name": "stdout",
     "output_type": "stream",
     "text": [
      "t-score t = 5.3333\n"
     ]
    }
   ],
   "source": [
    "# Population mean mu = 10\n",
    "# Sample mean x = 12\n",
    "# Sample standard deviation s = 1.5\n",
    "# Sample size n = 16\n",
    "# t-score t = (x - mu)/(s/sqrt(n)) = (12-10)/(1.5/sqrt(16))\n",
    "t_score = 2/(1.5/np.sqrt(16))\n",
    "print('t-score t =', round(t_score, 4))"
   ]
  },
  {
   "cell_type": "markdown",
   "metadata": {},
   "source": [
    "## Problem Statement 9:\n",
    "Find the t-score below which we can expect 99% of sample means will fall if samples of size 16 are taken from a normally distributed population."
   ]
  },
  {
   "cell_type": "code",
   "execution_count": 9,
   "metadata": {},
   "outputs": [
    {
     "name": "stdout",
     "output_type": "stream",
     "text": [
      "The value t such that 𝑃(T < t) = 0.99 : 2.6025\n"
     ]
    }
   ],
   "source": [
    "n = 16 # Sample size n = 16\n",
    "p = 0.99 # P(T < t) = 0.99\n",
    "df = n - 1 # Degrees of freedom\n",
    "t_score = stats.t.ppf(p, df)\n",
    "print('The value t such that 𝑃(T < t) = 0.99 :', round(t_score, 4))"
   ]
  },
  {
   "cell_type": "markdown",
   "metadata": {},
   "source": [
    "## Problem Statement 10:\n",
    "If a random sample of size 25 drawn from a normal population gives a mean of 60 and a standard deviation of 4, find the range of t-scores where we can expect to find the middle 95% of all sample means. Compute the probability that (−0.05 < T < 0.10)."
   ]
  },
  {
   "cell_type": "code",
   "execution_count": 10,
   "metadata": {},
   "outputs": [
    {
     "name": "stdout",
     "output_type": "stream",
     "text": [
      "Range of t-scores such that P(−t < T < t) = 0.95 is : -2.0639 < T < 2.0639\n",
      "P(−0.05 < T < 0.10) = 0.0591\n"
     ]
    }
   ],
   "source": [
    "n = 25 # sample size\n",
    "x = 60 # sample mean\n",
    "s = 4 # sample standard deviation\n",
    "# Confidence level is 95% (upper tail probability is (1 - 0.95)/2 = 0.25)\n",
    "p = 0.95\n",
    "df = n - 1 # Degrees of freedom\n",
    "t_score = stats.t.isf((1 - p)/2, df)\n",
    "print('Range of t-scores such that P(−t < T < t) = 0.95 is :', -round(t_score, 4), '< T <', round(t_score, 4))\n",
    "\n",
    "# P(0.05 < T < 0.10)\n",
    "p = stats.t.cdf(0.10, df) - stats.t.cdf(-0.05, df)\n",
    "print('P(−0.05 < T < 0.10) =', round(p, 4))"
   ]
  },
  {
   "cell_type": "markdown",
   "metadata": {},
   "source": [
    "## Problem Statement 11:\n",
    "Two-tailed test for difference between two population means\n",
    "\n",
    "Is there evidence to conclude that the number of people travelling from Bangalore to Chennai is different from the number of people travelling from Bangalore to Hosur in a week, given the following:\n",
    "\n",
    "Population 1: Bangalore to Chennai n1 = 1200\n",
    "\n",
    "x1 = 452\n",
    "\n",
    "s1 = 212\n",
    "\n",
    "Population 2: Bangalore to Hosur n2 = 800\n",
    "\n",
    "x2 = 523\n",
    "\n",
    "s2 = 185"
   ]
  },
  {
   "cell_type": "code",
   "execution_count": 11,
   "metadata": {},
   "outputs": [
    {
     "name": "stdout",
     "output_type": "stream",
     "text": [
      "P-value = 0.0\n",
      "P-value < 0.05, so we are rejecting the null hypothesis\n",
      "Hence, we conclude that the number of people travelling from Bangalore to Chennai is different from the number of people travelling from Bangalore to Hosur in a week\n"
     ]
    }
   ],
   "source": [
    "# Unequal variances t-test for means of two independent samples from descriptive statistics.\n",
    "# Null Hypothesis H0 : x1 = x2 (two independent samples have equal means)\n",
    "# Alternative Hypothesis H1 : x1 != x2 (two independent samples have unequal means)\n",
    "\n",
    "# Find P-value\n",
    "tstat, p_value = stats.ttest_ind_from_stats(mean1 = 452, std1 = 212, nobs1 = 1200, mean2 = 523, std2 = 185, nobs2 = 800, equal_var=False)\n",
    "\n",
    "# Reject H0 if P-value < alpha (0.05)\n",
    "print('P-value =', round(p_value, 4))\n",
    "\n",
    "if p_value < 0.05:    # alpha value is 0.05 or 5%\n",
    "    print(\"P-value < 0.05, so we are rejecting the null hypothesis\")\n",
    "    print('Hence, we conclude that the number of people travelling from Bangalore to Chennai is different from the number of people travelling from Bangalore to Hosur in a week')\n",
    "else:\n",
    "    print(\"P-value > 0.05, so we are accepting the null hypothesis\")\n",
    "    print('Hence, we conclude that there is no difference between the number of people travelling from Bangalore to Chennai and the number of people travelling from Bangalore to Hosur in a week')"
   ]
  },
  {
   "cell_type": "markdown",
   "metadata": {},
   "source": [
    "## Problem Statement 12:\n",
    "Is there evidence to conclude that the number of people preferring Duracell battery is different from the number of people preferring Energizer battery, given the following:\n",
    "\n",
    "Population 1: Duracell\n",
    "\n",
    "n1 = 100\n",
    "\n",
    "x1 = 308\n",
    "\n",
    "s1 = 84\n",
    "\n",
    "Population 2: Energizer\n",
    "\n",
    "n2 = 100\n",
    "\n",
    "x2 = 254\n",
    "\n",
    "s2 = 67"
   ]
  },
  {
   "cell_type": "code",
   "execution_count": 12,
   "metadata": {},
   "outputs": [
    {
     "name": "stdout",
     "output_type": "stream",
     "text": [
      "P-value = 0.0\n",
      "P-value < 0.05, so we are rejecting the null hypothesis\n",
      "Hence, we conclude that the number of people preferring Duracell battery is different from the number of people preferring Energizer battery\n"
     ]
    }
   ],
   "source": [
    "# Unequal variances t-test for means of two independent samples from descriptive statistics.\n",
    "# Null Hypothesis H0 : x1 = x2 (two independent samples have equal means)\n",
    "# Alternative Hypothesis H1 : x1 != x2 (two independent samples have unequal means)\n",
    "\n",
    "# Find P-value\n",
    "tstat, p_value = stats.ttest_ind_from_stats(mean1 = 308, std1 = 84, nobs1 = 100, mean2 = 254, std2 = 67, nobs2 = 100, equal_var=False)\n",
    "\n",
    "# Reject H0 if P-value < alpha (0.05)\n",
    "print('P-value =', round(p_value, 4))\n",
    "\n",
    "if p_value < 0.05:    # alpha value is 0.05 or 5%\n",
    "    print(\"P-value < 0.05, so we are rejecting the null hypothesis\")\n",
    "    print('Hence, we conclude that the number of people preferring Duracell battery is different from the number of people preferring Energizer battery')\n",
    "else:\n",
    "    print(\"P-value > 0.05, so we are accepting the null hypothesis\")\n",
    "    print('Hence, we conclude that there is no difference between the number of people preferring Duracell battery and the number of people preferring Energizer battery')"
   ]
  },
  {
   "cell_type": "markdown",
   "metadata": {},
   "source": [
    "## Problem Statement 13:\n",
    "Pooled estimate of the population variance\n",
    "\n",
    "Does the data provide sufficient evidence to conclude that average percentage increase in the price of sugar differs when it is sold at two different prices?\n",
    "\n",
    "Population 1: Price of sugar = Rs. 27.50 n1 = 14\n",
    "\n",
    "x1 = 0.317%\n",
    "\n",
    "s1 = 0.12%\n",
    "\n",
    "Population 2: Price of sugar = Rs. 20.00 n2 = 9\n",
    "\n",
    "x2 = 0.21%\n",
    "\n",
    "s2 = 0.11%"
   ]
  },
  {
   "cell_type": "code",
   "execution_count": 13,
   "metadata": {},
   "outputs": [
    {
     "name": "stdout",
     "output_type": "stream",
     "text": [
      "P-value = 0.043\n",
      "P-value < 0.05, so we are rejecting the null hypothesis\n",
      "Hence, we conclude that average percentage increase in the price of sugar differs when it is sold at two different prices?\n"
     ]
    }
   ],
   "source": [
    "# Equal variances t-test for means of two independent samples from descriptive statistics.\n",
    "# Null Hypothesis H0 : x1 = x2 (two independent samples have equal means)\n",
    "# Alternative Hypothesis H1 : x1 != x2 (two independent samples have unequal means)\n",
    "\n",
    "# Find P-value\n",
    "tstat, p_value = stats.ttest_ind_from_stats(mean1 = 0.317, std1 = 0.12, nobs1 = 14, mean2 = 0.21, std2 = 0.11, nobs2 = 9, equal_var=True)\n",
    "\n",
    "# Reject H0 if P-value < alpha (0.05)\n",
    "print('P-value =', round(p_value, 4))\n",
    "\n",
    "if p_value < 0.05:    # alpha value is 0.05 or 5%\n",
    "    print(\"P-value < 0.05, so we are rejecting the null hypothesis\")\n",
    "    print('Hence, we conclude that average percentage increase in the price of sugar differs when it is sold at two different prices?')\n",
    "else:\n",
    "    print(\"P-value > 0.05, so we are accepting the null hypothesis\")\n",
    "    print('Hence, we conclude that there is no difference between average percentage increase in the price of sugar when it is sold at two different prices?')"
   ]
  },
  {
   "cell_type": "markdown",
   "metadata": {},
   "source": [
    "## Problem Statement 14:\n",
    "The manufacturers of compact disk players want to test whether a small price reduction is enough to increase sales of their product. Is there evidence that the small price reduction is enough to increase sales of compact disk players?\n",
    "\n",
    "Population 1: Before reduction\n",
    "n1 = 15\n",
    "\n",
    "x1 = Rs. 6598\n",
    "\n",
    "s1 = Rs. 844\n",
    "\n",
    "Population 2: After reduction n2 = 12\n",
    "\n",
    "x2 = RS. 6870\n",
    "\n",
    "s2 = Rs. 669"
   ]
  },
  {
   "cell_type": "code",
   "execution_count": 14,
   "metadata": {},
   "outputs": [
    {
     "name": "stdout",
     "output_type": "stream",
     "text": [
      "P-value = 0.3592\n",
      "P-value > 0.05, so we are accepting the null hypothesis\n",
      "Hence, there is no evidence that the small price reduction is enough to increase sales of compact disk players\n"
     ]
    }
   ],
   "source": [
    "# Unequal variances t-test for means of two independent samples from descriptive statistics.\n",
    "# Null Hypothesis H0 : x1 = x2 (two independent samples have equal means)\n",
    "# Alternative Hypothesis H1 : x1 != x2 (two independent samples have unequal means)\n",
    "\n",
    "# Find P-value\n",
    "tstat, p_value = stats.ttest_ind_from_stats(mean1 = 6598, std1 = 844, nobs1 = 15, mean2 = 6870, std2 = 669, nobs2 = 12, equal_var=False)\n",
    "\n",
    "# Reject H0 if P-value < alpha (0.05)\n",
    "print('P-value =', round(p_value, 4))\n",
    "\n",
    "if p_value < 0.05:    # alpha value is 0.05 or 5%\n",
    "    print(\"P-value < 0.05, so we are rejecting the null hypothesis\")\n",
    "    print('Hence, there is evidence that the small price reduction is enough to increase sales of compact disk players')\n",
    "else:\n",
    "    print(\"P-value > 0.05, so we are accepting the null hypothesis\")\n",
    "    print('Hence, there is no evidence that the small price reduction is enough to increase sales of compact disk players')"
   ]
  },
  {
   "cell_type": "markdown",
   "metadata": {},
   "source": [
    "## Problem Statement 15:\n",
    "\n",
    "Comparisons of two population proportions when the hypothesized difference is zero.\n",
    "\n",
    "Carry out a two-tailed test of the equality of banks’ share of the car loan market in 1980 and 1995.\n",
    "\n",
    "Population 1: 1980\n",
    "\n",
    "n1 = 1000\n",
    "\n",
    "x1 = 53\n",
    "\n",
    "𝑝1 = 0.53\n",
    "\n",
    "Population 2: 1985\n",
    "\n",
    "n2 = 100\n",
    "\n",
    "x2 = 43\n",
    "\n",
    "𝑝2= 0.53"
   ]
  },
  {
   "cell_type": "code",
   "execution_count": 15,
   "metadata": {},
   "outputs": [
    {
     "name": "stdout",
     "output_type": "stream",
     "text": [
      "Z-stat: -12.7361, P-value: 0.0000\n",
      "P-value < 0.025, Reject the null hypothesis - Conclusion: sample proportions are unequal\n"
     ]
    }
   ],
   "source": [
    "from statsmodels.stats.proportion import proportions_ztest\n",
    "\n",
    "# two-tailed test for difference between proportions at significane level 0.05\n",
    "significance = 0.05\n",
    "\n",
    "# Sample data\n",
    "sample_success_1, sample_size_1 = (53, 1000)\n",
    "sample_success_2, sample_size_2 = (43, 100)\n",
    "\n",
    "# The null hypothesis is a claim of “equality”: H0: p1 = p2\n",
    "# The alternative hypothesis is a claim of \"inequality\": Ha: p1 != p2\n",
    "\n",
    "successes = np.array([sample_success_1, sample_success_2])\n",
    "samples = np.array([sample_size_1, sample_size_2])\n",
    "\n",
    "z_stat, p_value = proportions_ztest(count=successes, nobs=samples, value=0, alternative='two-sided')\n",
    "\n",
    "print('Z-stat: %0.4f, P-value: %0.4f' % (z_stat, p_value))\n",
    "\n",
    "# Reject H0 if P-value < significance/2 (0.025)\n",
    "if p_value > significance/2:\n",
    "    print(\"P-value > 0.025, Fail to reject the null hypothesis - Conclusion: sample proportions are equal\")\n",
    "else:\n",
    "    print(\"P-value < 0.025, Reject the null hypothesis - Conclusion: sample proportions are unequal\")"
   ]
  },
  {
   "cell_type": "markdown",
   "metadata": {},
   "source": [
    "# Problem Statement 16:\n",
    "\n",
    "Carry out a one-tailed test to determine whether the population proportion of traveler’s check buyers who buy at least $2500 in checks when sweepstakes prizes are offered as at least 10% higher than the proportion of such buyers when no sweepstakes are on.\n",
    "\n",
    "Population 1: With sweepstakes\n",
    "\n",
    "n1 = 300\n",
    "\n",
    "x1 = 120\n",
    "\n",
    "𝑝1 = 0.40\n",
    "\n",
    "Population 2: No sweepstakes\n",
    "\n",
    "n2 = 700\n",
    "\n",
    "x2 = 140\n",
    "\n",
    "𝑝2 = 0.20"
   ]
  },
  {
   "cell_type": "code",
   "execution_count": 16,
   "metadata": {},
   "outputs": [
    {
     "name": "stdout",
     "output_type": "stream",
     "text": [
      "Z-stat: 3.3037, P-value: 0.0005\n",
      "P-value < 0.05, Reject the null hypothesis - Conclusion: Difference in sample proportions is higher than 10%\n"
     ]
    }
   ],
   "source": [
    "# one-tailed test for difference between proportions at significane level 0.05\n",
    "significance = 0.05\n",
    "\n",
    "# Sample data\n",
    "sample_success_1, sample_size_1 = (120, 300)\n",
    "sample_success_2, sample_size_2 = (140, 700)\n",
    "\n",
    "# The null hypothesis : H0: p1 - p2 = 0.10\n",
    "# The alternative hypothesis : H1: p1 - p2 > 0.10\n",
    "\n",
    "successes = np.array([sample_success_1, sample_success_2])\n",
    "samples = np.array([sample_size_1, sample_size_2])\n",
    "\n",
    "z_stat, p_value = proportions_ztest(count=successes, nobs=samples, value=0.10, alternative='larger')\n",
    "\n",
    "print('Z-stat: %0.4f, P-value: %0.4f' % (z_stat, p_value))\n",
    "\n",
    "# Reject H0 if P-value < significance (0.05)\n",
    "if p_value > significance:\n",
    "    print(\"P-value > 0.05, Fail to reject the null hypothesis - Conclusion: Difference in sample proportions is equal to 10%\")\n",
    "else:\n",
    "    print(\"P-value < 0.05, Reject the null hypothesis - Conclusion: Difference in sample proportions is higher than 10%\")"
   ]
  },
  {
   "cell_type": "markdown",
   "metadata": {},
   "source": [
    "## Problem Statement 17:\n",
    "A die is thrown 132 times with the following results: Number turned up: 1, 2, 3, 4, 5, 6\n",
    "\n",
    "Frequency: 16, 20, 25, 14, 29, 28\n",
    "\n",
    "Is the die unbiased? Consider the degrees of freedom as n − 1"
   ]
  },
  {
   "cell_type": "code",
   "execution_count": 17,
   "metadata": {},
   "outputs": [
    {
     "name": "stdout",
     "output_type": "stream",
     "text": [
      "Chi-stat: 9.0000, P-value: 0.1091\n",
      "P-value > 0.05, Fail to reject the null hypothesis - Conclusion: Die is unbaised\n"
     ]
    }
   ],
   "source": [
    "# Chi-squared test - Goodness of fit\n",
    "# Null Hypothesis H0: The die is unbiased\n",
    "# Alternative Hypothesis H1: The die is biased\n",
    "\n",
    "# Significance level is 5%\n",
    "significance = 0.05\n",
    "\n",
    "observed_values = [16, 20, 25, 14, 29, 28]\n",
    "\n",
    "# Sum of observed frequencies\n",
    "s = np.sum(observed_values)\n",
    "\n",
    "# For a fair die probability of getting each value is 1/6. So expected frequency of each outcome is s/6.\n",
    "expected_values = [s/6, s/6, s/6, s/6, s/6, s/6]\n",
    "\n",
    "chi_stat, p_value = stats.chisquare(observed_values, expected_values)\n",
    "print('Chi-stat: %0.4f, P-value: %0.4f' % (chi_stat, p_value))\n",
    "\n",
    "# Reject H0 if P-value < significance (0.05)\n",
    "if p_value > significance:\n",
    "    print(\"P-value > 0.05, Fail to reject the null hypothesis - Conclusion: Die is unbaised\")\n",
    "else:\n",
    "    print(\"P-value < 0.05, Reject the null hypothesis - Conclusion: Die is baised\")"
   ]
  },
  {
   "attachments": {
    "image.png": {
     "image/png": "[encoded data removed]"
    }
   },
   "cell_type": "markdown",
   "metadata": {},
   "source": [
    "## Problem Statement 18:\n",
    "In a certain town, there are about one million eligible voters. A simple random sample of 10,000 eligible voters was chosen to study the relationship between gender and participation in the last election. The results are summarized in the following 2X2 (read two by two) contingency table:\n",
    "![image.png](attachment:image.png)\n",
    "We would want to check whether being a man or a woman (columns) is independent of having voted in the last election (rows). In other words, is “gender and voting independent”?"
   ]
  },
  {
   "cell_type": "code",
   "execution_count": 18,
   "metadata": {},
   "outputs": [
    {
     "name": "stdout",
     "output_type": "stream",
     "text": [
      "Chi-stat: 6.6605, P-value: 0.0099\n",
      "P-value < 0.05, Reject the null hypothesis - Conclusion: Gender and Voting are NOT Independent\n"
     ]
    }
   ],
   "source": [
    "# Chi-squared test of independence\n",
    "# Null Hypothesis H0: Gender and Voting are Independent\n",
    "# Alternative Hypothesis H1: Gender and Voting are NOT Independent\n",
    "\n",
    "# Significance level is 5%\n",
    "significance = 0.05\n",
    "\n",
    "observed_values = np.array([[2792, 3591], [1486, 2131]])\n",
    "\n",
    "chi_stat, p_value, dof, expected = stats.chi2_contingency(observed_values, correction=False)\n",
    "print('Chi-stat: %0.4f, P-value: %0.4f' % (chi_stat, p_value))\n",
    "\n",
    "# Reject H0 if P-value < significance (0.05)\n",
    "if p_value > significance:\n",
    "    print(\"P-value > 0.05, Fail to reject the null hypothesis - Conclusion: Gender and Voting are Independent\")\n",
    "else:\n",
    "    print(\"P-value < 0.05, Reject the null hypothesis - Conclusion: Gender and Voting are NOT Independent\")"
   ]
  },
  {
   "attachments": {
    "image.png": {
     "image/png": "[encoded data removed]"
    }
   },
   "cell_type": "markdown",
   "metadata": {},
   "source": [
    "## Problem Statement 19:\n",
    "A sample of 100 voters are asked which of four candidates they would vote for in an election. The number supporting each candidate is given below:\n",
    "![image.png](attachment:image.png)\n",
    "Do the data suggest that all candidates are equally popular? [Chi-Square = 14.96, with 3 df, 𝑝 < 0.05]."
   ]
  },
  {
   "cell_type": "code",
   "execution_count": 19,
   "metadata": {},
   "outputs": [
    {
     "name": "stdout",
     "output_type": "stream",
     "text": [
      "Chi-stat: 14.9600, P-value: 0.0019\n",
      "P-value < 0.05, Reject the null hypothesis - Conclusion: All candidates are not equally popular\n"
     ]
    }
   ],
   "source": [
    "# Chi-squared test - Goodness of fit\n",
    "# Null Hypothesis H0: All candidated are equally popular\n",
    "# Alternative Hypothesis H1: All candidates are not equally popular\n",
    "\n",
    "# Significance level is 5%\n",
    "significance = 0.05\n",
    "\n",
    "observed_values = [41, 19, 24, 16]\n",
    "\n",
    "chi_stat, p_value = stats.chisquare(observed_values)\n",
    "print('Chi-stat: %0.4f, P-value: %0.4f' % (chi_stat, p_value))\n",
    "\n",
    "# Reject H0 if P-value < significance (0.05)\n",
    "if p_value > significance:\n",
    "    print(\"P-value > 0.05, Fail to reject the null hypothesis - Conclusion: All candidated are equally popular\")\n",
    "else:\n",
    "    print(\"P-value < 0.05, Reject the null hypothesis - Conclusion: All candidates are not equally popular\")"
   ]
  },
  {
   "attachments": {
    "image.png": {
     "image/png": "[encoded data removed]"
    }
   },
   "cell_type": "markdown",
   "metadata": {},
   "source": [
    "## Problem Statement 20:\n",
    "Children of three ages are asked to indicate their preference for three photographs of adults. Do the data suggest that there is a significant relationship between age and photograph preference? What is wrong with this study? [Chi-Square = 29.6, with 4\n",
    "df: 𝑝 < 0.05].\n",
    "![image.png](attachment:image.png)"
   ]
  },
  {
   "cell_type": "code",
   "execution_count": 20,
   "metadata": {},
   "outputs": [
    {
     "name": "stdout",
     "output_type": "stream",
     "text": [
      "Chi-stat: 29.6032, P-value: 0.0000\n",
      "P-value < 0.05, Reject the null hypothesis - Conclusion: There is a significant relationship between age and photograph preference\n"
     ]
    }
   ],
   "source": [
    "# Chi-squared test of independence\n",
    "# Null Hypothesis H0: Age and Photograph are Independent\n",
    "# Alternative Hypothesis H1: Age and Photograph are NOT Independent.\n",
    "\n",
    "# Significance level is 5%\n",
    "significance = 0.05\n",
    "\n",
    "observed_values = np.array([[18, 22, 20], [2, 28, 40], [20, 10, 40]])\n",
    "\n",
    "chi_stat, p_value, dof, expected = stats.chi2_contingency(observed_values)\n",
    "print('Chi-stat: %0.4f, P-value: %0.4f' % (chi_stat, p_value))\n",
    "\n",
    "# Reject H0 if P-value < significance (0.05)\n",
    "if p_value > significance:\n",
    "    print(\"P-value > 0.05, Fail to reject the null hypothesis - Conclusion: Age and Photograph are Independent\")\n",
    "else:\n",
    "    print(\"P-value < 0.05, Reject the null hypothesis - Conclusion: There is a significant relationship between age and photograph preference\")"
   ]
  },
  {
   "attachments": {
    "image.png": {
     "image/png": "[encoded data removed]"
    }
   },
   "cell_type": "markdown",
   "metadata": {},
   "source": [
    "## Problem Statement 21:\n",
    "A study of conformity using the Asch paradigm involved two conditions: one where one confederate supported the true judgement and another where no confederate gave the correct response.\n",
    "![image.png](attachment:image.png)\n",
    "Is there a significant difference between the \"support\" and \"no support\" conditions in the frequency with which individuals are likely to conform? [Chi-Square = 19.87, with 1 df: 𝑝 < 0.05]."
   ]
  },
  {
   "cell_type": "code",
   "execution_count": 21,
   "metadata": {},
   "outputs": [
    {
     "name": "stdout",
     "output_type": "stream",
     "text": [
      "Chi-stat: 19.8686, P-value: 0.0000\n",
      "P-value < 0.05, Reject the null hypothesis - Conclusion: Conformity and Support are NOT Independent\n",
      "There is a significant difference between the \"support\" and \"no support\" conditions in the frequency with which individuals are likely to conform\n"
     ]
    }
   ],
   "source": [
    "# Chi-squared test of independence\n",
    "# Null Hypothesis H0: Conformity and Support are Independent\n",
    "# Alternative Hypothesis H1: Conformity and Support are NOT Independent.\n",
    "\n",
    "# Significance level is 5%\n",
    "significance = 0.05\n",
    "\n",
    "observed_values = np.array([[18, 40], [32, 10]])\n",
    "\n",
    "chi_stat, p_value, dof, expected = stats.chi2_contingency(observed_values, correction=False)\n",
    "print('Chi-stat: %0.4f, P-value: %0.4f' % (chi_stat, p_value))\n",
    "\n",
    "# Reject H0 if P-value < significance (0.05)\n",
    "if p_value > significance:\n",
    "    print(\"P-value > 0.05, Fail to reject the null hypothesis - Conclusion: Conformity and Support are Independent\")\n",
    "    print('There is no significant difference between the \"support\" and \"no support\" conditions in the frequency with which individuals are likely to conform')\n",
    "else:\n",
    "    print(\"P-value < 0.05, Reject the null hypothesis - Conclusion: Conformity and Support are NOT Independent\")\n",
    "    print('There is a significant difference between the \"support\" and \"no support\" conditions in the frequency with which individuals are likely to conform')"
   ]
  },
  {
   "attachments": {
    "image.png": {
     "image/png": "[encoded data removed]"
    }
   },
   "cell_type": "markdown",
   "metadata": {},
   "source": [
    "## Problem Statement 22:\n",
    "We want to test whether short people differ with respect to their leadership qualities (Genghis Khan, Adolf Hitler and Napoleon were all stature-deprived, and how many midget MP's are there?) The following table shows the frequencies with which 43 short people and 52 tall people were categorized as \"leaders\", \"followers\" or as \"unclassifiable\". Is there a relationship between height and leadership qualities?\n",
    "\n",
    "[Chi-Square = 10.71, with 2 df: 𝑝 < 0.01].\n",
    "\n",
    "![image.png](attachment:image.png)"
   ]
  },
  {
   "cell_type": "code",
   "execution_count": 22,
   "metadata": {},
   "outputs": [
    {
     "name": "stdout",
     "output_type": "stream",
     "text": [
      "Chi-stat: 10.7122, P-value: 0.0047\n",
      "P-value < 0.05, Reject the null hypothesis - Conclusion: Height and leadership qualities are NOT Independent\n",
      "There is a relationship between height and leadership qualities\n"
     ]
    }
   ],
   "source": [
    "# Chi-squared test of independence\n",
    "# Null Hypothesis H0: Height and leadership qualities are Independent\n",
    "# Alternative Hypothesis H1: Height and leadership qualities are NOT Independent\n",
    "\n",
    "# Significance level is 5%\n",
    "significance = 0.05\n",
    "\n",
    "observed_values = np.array([[12, 32], [22, 14], [9, 6]])\n",
    "\n",
    "chi_stat, p_value, dof, expected = stats.chi2_contingency(observed_values, correction=False)\n",
    "print('Chi-stat: %0.4f, P-value: %0.4f' % (chi_stat, p_value))\n",
    "\n",
    "# Reject H0 if P-value < significance (0.05)\n",
    "if p_value > significance:\n",
    "    print(\"P-value > 0.05, Fail to reject the null hypothesis - Conclusion: Height and leadership qualities are Independent\")\n",
    "    print('There is no relationship between height and leadership qualities')\n",
    "else:\n",
    "    print(\"P-value < 0.05, Reject the null hypothesis - Conclusion: Height and leadership qualities are NOT Independent\")\n",
    "    print('There is a relationship between height and leadership qualities')"
   ]
  },
  {
   "attachments": {
    "image.png": {
     "image/png": "[encoded data removed]"
    }
   },
   "cell_type": "markdown",
   "metadata": {},
   "source": [
    "## Problem Statement 23:\n",
    "Each respondent in the Current Population Survey of March 1993 was classified as employed, unemployed, or outside the labor force. The results for men in California age 35-44 can be cross-tabulated by marital status, as follows:\n",
    "![image.png](attachment:image.png)\n",
    "Men of different marital status seem to have different distributions of labor force status. Or is this just chance variation? (you may assume the table results from a simple random sample.)"
   ]
  },
  {
   "cell_type": "code",
   "execution_count": 23,
   "metadata": {},
   "outputs": [
    {
     "name": "stdout",
     "output_type": "stream",
     "text": [
      "Chi-stat: 31.6131, P-value: 0.0000\n",
      "P-value < 0.05, Reject the null hypothesis - Conclusion: Marital status and labor force status are NOT Independent\n",
      "Different marital status seem to have different distributions of labor force status\n"
     ]
    }
   ],
   "source": [
    "# Chi-squared test of independence\n",
    "# Null Hypothesis H0: Marital status and labor force status are Independent\n",
    "# Alternative Hypothesis H1: Marital status and labor force status are NOT Independent\n",
    "\n",
    "# Significance level is 5%\n",
    "significance = 0.05\n",
    "\n",
    "observed_values = np.array([[679, 103, 114], [63, 10, 20], [42, 18, 25]])\n",
    "\n",
    "chi_stat, p_value, dof, expected = stats.chi2_contingency(observed_values, correction=False)\n",
    "print('Chi-stat: %0.4f, P-value: %0.4f' % (chi_stat, p_value))\n",
    "\n",
    "# Reject H0 if P-value < significance (0.05)\n",
    "if p_value > significance:\n",
    "    print(\"P-value > 0.05, Fail to reject the null hypothesis - Conclusion: Marital status and labor force status are Independent\")\n",
    "else:\n",
    "    print(\"P-value < 0.05, Reject the null hypothesis - Conclusion: Marital status and labor force status are NOT Independent\")\n",
    "    print('Different marital status seem to have different distributions of labor force status')"
   ]
  }
 ],
 "metadata": {
  "kernelspec": {
   "display_name": "Python 3",
   "language": "python",
   "name": "python3"
  },
  "language_info": {
   "codemirror_mode": {
    "name": "ipython",
    "version": 3
   },
   "file_extension": ".py",
   "mimetype": "text/x-python",
   "name": "python",
   "nbconvert_exporter": "python",
   "pygments_lexer": "ipython3",
   "version": "3.8.3"
  }
 },
 "nbformat": 4,
 "nbformat_minor": 4
}
