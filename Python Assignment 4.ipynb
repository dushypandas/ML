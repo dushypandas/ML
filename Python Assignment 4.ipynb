{
 "cells": [
  {
   "cell_type": "markdown",
   "metadata": {},
   "source": [
    "1.1 Write a Python Program(with class concepts) to find the area of the triangle using the below\n",
    "formula.\n",
    "area = (s*(s-a)*(s-b)*(s-c)) ** 0.5\n",
    "Function to take the length of the sides of triangle from user should be defined in the parent\n",
    "class and function to calculate the area should be defined in subclass."
   ]
  },
  {
   "cell_type": "code",
   "execution_count": 1,
   "metadata": {},
   "outputs": [
    {
     "name": "stdout",
     "output_type": "stream",
     "text": [
      "Enter first side: 4\n",
      "Enter second side: 3\n",
      "Enter third side: 5\n",
      "The area of the triangle is 6.00\n"
     ]
    }
   ],
   "source": [
    "class Triangle:\n",
    "    def __init__(self):\n",
    "        \"\"\"Initialize the sides of the triangle.\"\"\"\n",
    "        self.a = float(input('Enter first side: '))\n",
    "        self.b = float(input('Enter second side: '))\n",
    "        self.c = float(input('Enter third side: '))\n",
    "\n",
    "class Area(Triangle):\n",
    "    def __init__(self):\n",
    "        \"\"\"Initialize attributes of the parent class.\"\"\"\n",
    "        super().__init__()\n",
    "        \n",
    "    def triangle_area(self):\n",
    "        a=self.a\n",
    "        b=self.b\n",
    "        c=self.c\n",
    "        s = (a + b + c) / 2\n",
    "        area = (s*(s-a)*(s-b)*(s-c)) ** 0.5\n",
    "        return area\n",
    "\n",
    "myarea = Area()\n",
    "area = myarea.triangle_area()\n",
    "print('The area of the triangle is %0.2f' % area)"
   ]
  },
  {
   "cell_type": "markdown",
   "metadata": {},
   "source": [
    "1.2 Write a function filter_long_words() that takes a list of words and an integer n and returns\n",
    "the list of words that are longer than n."
   ]
  },
  {
   "cell_type": "code",
   "execution_count": 2,
   "metadata": {},
   "outputs": [
    {
     "name": "stdout",
     "output_type": "stream",
     "text": [
      "['sunday', 'my name is raj', 'this is a long string', 'mercedes']\n"
     ]
    }
   ],
   "source": [
    "def filter_long_words(mylist, int_n):\n",
    "    newlist = []\n",
    "    for i in range(len(mylist)):\n",
    "        if len(mylist[i]) > int_n:\n",
    "            newlist.append(mylist[i])\n",
    "    return newlist\n",
    "\n",
    "lst = ['hello', 'sunday', 'my name is raj', 'this is a long string' , 'fog', 'dy', 'b', 'Oz', 'mercedes', 'home']\n",
    "print(filter_long_words(lst, 5))"
   ]
  },
  {
   "cell_type": "markdown",
   "metadata": {},
   "source": [
    "2.1 Write a Python program using function concept that maps list of words into a list of integers\n",
    "representing the lengths of the corresponding words .\n",
    "Hint: If a list [ ab,cde,erty] is passed on to the python function output should come as [2,3,4]\n",
    "Here 2,3 and 4 are the lengths of the words in the list."
   ]
  },
  {
   "cell_type": "code",
   "execution_count": 3,
   "metadata": {},
   "outputs": [
    {
     "name": "stdout",
     "output_type": "stream",
     "text": [
      "[5, 6, 14, 21, 3, 2, 1, 2, 8, 4]\n"
     ]
    }
   ],
   "source": [
    "def mapfunc(mylist):\n",
    "    \"\"\"maps list of words into a list of integers\"\"\"\n",
    "    return [len(mylist[i]) for i in range(len(mylist))]\n",
    "\n",
    "lst = ['hello', 'sunday', 'my name is raj', 'this is a long string' , 'fog', 'dy', 'b', 'Oz', 'mercedes', 'home']\n",
    "print(mapfunc(lst))"
   ]
  },
  {
   "cell_type": "markdown",
   "metadata": {},
   "source": [
    "2.2 Write a Python function which takes a character (i.e. a string of length 1) and returns True if\n",
    "it is a vowel, False otherwise."
   ]
  },
  {
   "cell_type": "code",
   "execution_count": 4,
   "metadata": {},
   "outputs": [
    {
     "data": {
      "text/plain": [
       "False"
      ]
     },
     "execution_count": 4,
     "metadata": {},
     "output_type": "execute_result"
    }
   ],
   "source": [
    "def check_vowel(char):\n",
    "    \"\"\"check if  the character is a vowel\"\"\"\n",
    "    vowels = ['a', 'e', 'i', 'o', 'u']\n",
    "    return char in vowels\n",
    "\n",
    "check_vowel('b')"
   ]
  }
 ],
 "metadata": {
  "kernelspec": {
   "display_name": "Python 3",
   "language": "python",
   "name": "python3"
  },
  "language_info": {
   "codemirror_mode": {
    "name": "ipython",
    "version": 3
   },
   "file_extension": ".py",
   "mimetype": "text/x-python",
   "name": "python",
   "nbconvert_exporter": "python",
   "pygments_lexer": "ipython3",
   "version": "3.7.6"
  }
 },
 "nbformat": 4,
 "nbformat_minor": 4
}
